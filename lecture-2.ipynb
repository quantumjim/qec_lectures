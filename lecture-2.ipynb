{
 "cells": [
  {
   "cell_type": "markdown",
   "id": "dce335b7",
   "metadata": {},
   "source": [
    "# Lecture 2: Correcting Errors\n",
    "### James R. Wootton, IBM Quantum"
   ]
  },
  {
   "cell_type": "markdown",
   "id": "52c73552",
   "metadata": {},
   "source": [
    "In the last lecture we looked at how to turn the results from QEC circuits into graphs. This abstraction then allowed us to figure out what errors might have happened for any given output.\n",
    "\n",
    "But QEC is not just about detecting errors. It's also about correcting them!\n",
    "\n",
    "In an actual fault-tolerant quantum computation, this correction will be dynamic. Actions we take when implementing logical gates will depend on the errors that we just detected. Nevertheless, we won't always care about the specific details about which errors occurred at which time and place. Instead we'll just need to know larger collective effects of errors, relevant to whatever gate we are applying.\n",
    "\n",
    "Currently we are only considering memory experiments. There is therefore only one logical operation: final readout of the stored logical information. So when correcting, we need to know the collective effect relevant for this."
   ]
  },
  {
   "cell_type": "markdown",
   "id": "250634fa",
   "metadata": {},
   "source": [
    "## Correcting final readout"
   ]
  },
  {
   "cell_type": "code",
   "execution_count": null,
   "id": "0287710b",
   "metadata": {},
   "outputs": [],
   "source": [
    "from qiskit_qec.decoders import DecodingGraph\n",
    "from qiskit_qec.circuits import RepetitionCodeCircuit\n",
    "\n",
    "import numpy as np\n",
    "from rustworkx.visualization import mpl_draw"
   ]
  },
  {
   "cell_type": "markdown",
   "id": "1642abca",
   "metadata": {},
   "source": [
    "To be concrete, let's again take the specific example of the repetition code. But this time we'll use something a bit bigger: 5 repetitions and 4 rounds of syndrome measurements."
   ]
  },
  {
   "cell_type": "code",
   "execution_count": null,
   "id": "67b3191c",
   "metadata": {},
   "outputs": [],
   "source": [
    "d,T = 5,7\n",
    "code = RepetitionCodeCircuit(d,T,resets=True)\n",
    "dec_graph = DecodingGraph(code)"
   ]
  },
  {
   "cell_type": "markdown",
   "id": "027b9ea1",
   "metadata": {},
   "source": [
    "Here's what the syndrome graph looks like."
   ]
  },
  {
   "cell_type": "code",
   "execution_count": null,
   "id": "15e018ad",
   "metadata": {},
   "outputs": [],
   "source": [
    "mpl_draw(dec_graph.graph, with_labels=True)"
   ]
  },
  {
   "cell_type": "markdown",
   "id": "56a2737b",
   "metadata": {},
   "source": [
    "Actually, we can do better than just let `matplotlib` try to figure out how to plot it. Since the nodes contain information about their time and place, we can use these to set positions."
   ]
  },
  {
   "cell_type": "code",
   "execution_count": null,
   "id": "2ef4e5c9",
   "metadata": {},
   "outputs": [],
   "source": [
    "def get_pos(dec_graph):\n",
    "    pos = []\n",
    "    for node in dec_graph.graph.nodes():\n",
    "        if node.is_boundary:\n",
    "            if node.qubits[0]==0:\n",
    "                pos.append([-1,T/2])\n",
    "            else:\n",
    "                pos.append([node.qubits[0]+1,T/2])\n",
    "        else:\n",
    "            pos.append([np.mean(node.qubits),node.time])\n",
    "    return pos\n",
    "        \n",
    "pos = get_pos(dec_graph)\n",
    "mpl_draw(dec_graph.graph, with_labels=True, pos=pos)"
   ]
  },
  {
   "cell_type": "markdown",
   "id": "95b908fe",
   "metadata": {},
   "source": [
    "Here the horizontal edges correspond to errors on code qubits between syndrome measurement rounds. Vertical ones correspond to those on auxiliary qubits. The diagonal edges (in the bulk) are errors that occur during measurement rounds.\n",
    "\n",
    "The remaining links are those at the edges, connecting to nodes 2 and 9. Here they are in full."
   ]
  },
  {
   "cell_type": "code",
   "execution_count": null,
   "id": "34bb0793",
   "metadata": {},
   "outputs": [],
   "source": [
    "for n in [9, 2]:\n",
    "    print('node',n,'is',dict(dec_graph.graph.nodes()[n]))"
   ]
  },
  {
   "cell_type": "markdown",
   "id": "588e77a0",
   "metadata": {},
   "source": [
    "These are the those for the two boundary nodes. They arise whenever one of the edge code qubits is flipped. For example"
   ]
  },
  {
   "cell_type": "code",
   "execution_count": null,
   "id": "11c043f6",
   "metadata": {},
   "outputs": [],
   "source": [
    "def print_nodes(nodes):\n",
    "    for node in nodes:\n",
    "        print('node',dec_graph.graph.nodes().index(node),'is',dict(node))   \n",
    "\n",
    "print_nodes(code.string2nodes('10000 0000 0000 0000 0000 0000 0000 0000'))"
   ]
  },
  {
   "cell_type": "markdown",
   "id": "cdb05cce",
   "metadata": {},
   "source": [
    "As we saw in the last lecture, any single error in this code creates two nodes. This edge qubit is involved in only one syndrome measurement, which contribites only one node. So we look at the readout of the code qubit itself. When this is not the value it is supposed to be, it gives us the other node. Since this is an odd one, we flag it up as a boundary node.\n",
    "\n",
    "The other boundary node comes, of course, from the other boundary."
   ]
  },
  {
   "cell_type": "code",
   "execution_count": null,
   "id": "097bd0bb",
   "metadata": {},
   "outputs": [],
   "source": [
    "print_nodes(code.string2nodes('00001 0000 0000 0000 0000 0000 0000 0000'))"
   ]
  },
  {
   "cell_type": "markdown",
   "id": "ac909df8",
   "metadata": {},
   "source": [
    "Determining whether one of these boundary nodes exists or not means we need to compare the final measured value of these edge qubits with the value they should be. \n",
    "\n",
    "To get the right nodes when storing a logical `1`, for example, we need to make sure to inform the `string2nodes` function that we should have a logical `1`. So for the example where the left edge qubit is flipped:"
   ]
  },
  {
   "cell_type": "code",
   "execution_count": null,
   "id": "49ab0b03",
   "metadata": {},
   "outputs": [],
   "source": [
    "print_nodes(code.string2nodes('01111 0000 0000 0000 0000 0000 0000 0000', logical='1'))"
   ]
  },
  {
   "cell_type": "markdown",
   "id": "ae422dc2",
   "metadata": {},
   "source": [
    "The trouble is, we don't know what value these should output have in general. In the error free case, they will output the logical value, but the logical value is exactly the thing we are measuring. If we need to know its correct value in order to correct a faulty measurement, then there's no point in the fault measurement!\n",
    "\n",
    "In 'real life' situations, we would therefore want to consider all the boundary nodes that could emerge for different logical values. In `string2nodes` we can obtain this with `all_logicals=True`."
   ]
  },
  {
   "cell_type": "code",
   "execution_count": null,
   "id": "d9fb447a",
   "metadata": {},
   "outputs": [],
   "source": [
    "print_nodes(code.string2nodes('10000 0000 0000 0000 0000 0000 0000 0000', all_logicals=True))"
   ]
  },
  {
   "cell_type": "code",
   "execution_count": null,
   "id": "10e59637",
   "metadata": {},
   "outputs": [],
   "source": [
    "error_nodes = code.string2nodes('01111 0000 0000 0000 0000 0000 0000 0000', all_logicals=True)\n",
    "print_nodes(error_nodes)"
   ]
  },
  {
   "cell_type": "markdown",
   "id": "395cddab",
   "metadata": {},
   "source": [
    "Here the case of a flip to the leftmost qubit results in the same three nodes, regardless of logical value. Let's highlight these nodes on the error graph."
   ]
  },
  {
   "cell_type": "code",
   "execution_count": null,
   "id": "c84b7ccd",
   "metadata": {},
   "outputs": [],
   "source": [
    "def highlight(error_nodes, dec_graph):\n",
    "    highlighted_color = []\n",
    "    for n, node in enumerate(dec_graph.graph.nodes()):\n",
    "        if node.is_boundary:\n",
    "                highlighted_color.append('orange')\n",
    "        else:\n",
    "            if node in error_nodes:\n",
    "                highlighted_color.append('red')\n",
    "            else:\n",
    "                highlighted_color.append('cornflowerblue')\n",
    "    return highlighted_color\n",
    "        \n",
    "mpl_draw(dec_graph.graph, with_labels=True, pos=pos, node_color=highlight(error_nodes,dec_graph))"
   ]
  },
  {
   "cell_type": "markdown",
   "id": "4537e9df",
   "metadata": {},
   "source": [
    "Here the boundary nodes have been highlighted orange, and the bulk node is red.\n",
    "\n",
    "Our decoding problem is much as it was before. We take the nodes present in our output, and try to pair them up. But here it is only the node in the bulk that *must* be paired with something. The edge nodes only need to get involved when they are required for pairing with the bulk nodes.\n",
    "\n",
    "In this case, it is pretty clear that our bulk node (33) should be paired with its neighbouring edge node (9). The remaining edge node (2) is not required and can be ignored.\n",
    "\n",
    "In doing so we have inferred that the error was the one that creates nodes 9 and 33. Above we saw that these arise in two possible cases:\n",
    "\n",
    "    '10000 0000 0000 0000 0000 0000 0000 0000'\n",
    "    '01111 0000 0000 0000 0000 0000 0000 0000'\n",
    "    \n",
    "In both cases, the error is that the leftmost qubit output the wrong value. So when extracting the logical value, we have two options:\n",
    "\n",
    "* Look at the result of the leftmost qubit, and use the opposite value as the logical readout;\n",
    "* Take the raw value of the rightmost qubit (or any other) as the logical readout.\n",
    "\n",
    "Now let's look at another example."
   ]
  },
  {
   "cell_type": "code",
   "execution_count": null,
   "id": "61fe49cc",
   "metadata": {},
   "outputs": [],
   "source": [
    "error_nodes = code.string2nodes('01111 1000 1000 1000 1000 1000 1000 0000', all_logicals=True)\n",
    "mpl_draw(dec_graph.graph, with_labels=True, pos=pos, node_color=highlight(error_nodes,dec_graph))"
   ]
  },
  {
   "cell_type": "markdown",
   "id": "45608344",
   "metadata": {},
   "source": [
    "Now it's node 8 that needs to be dealt with. Again, we can pair it with the boundary node. This implies that there was a flip on the leftmost qubit between the first and second syndrome rounds. So again we conclude that this qubit's final readout cannot be trusted.\n",
    "\n",
    "But what if we combine the two."
   ]
  },
  {
   "cell_type": "code",
   "execution_count": null,
   "id": "c959799d",
   "metadata": {},
   "outputs": [],
   "source": [
    "error_nodes = code.string2nodes('11111 1000 1000 1000 1000 1000 1000 0000', all_logicals=True)\n",
    "mpl_draw(dec_graph.graph, with_labels=True, pos=pos, node_color=highlight(error_nodes,dec_graph))"
   ]
  },
  {
   "cell_type": "markdown",
   "id": "adef653f",
   "metadata": {},
   "source": [
    "Here we see both nodes 8 and 33. These aren't neighbours, so we need to find a path of edges that connect them. The shortest path (and hence the one that implies the fewest errors) is the one that goes via node 9. This implies that both of the errors in the previous two examples occurred.\n",
    "\n",
    "It's important to note that the boundary node is not required for this. So our decoding in this case does not tell us not to trust the readout of the leftmost qubit. Instead it tells us that it can be trusted: we can take its raw value as our logical readout. This is because, though this qubit was flipped, it was also later flipped back to what it should be.\n",
    "\n",
    "A similar example is as follows."
   ]
  },
  {
   "cell_type": "code",
   "execution_count": null,
   "id": "c36a0f87",
   "metadata": {},
   "outputs": [],
   "source": [
    "error_nodes = code.string2nodes('11111 0000 0000 0000 0000 1000 1000 0000', all_logicals=True)\n",
    "mpl_draw(dec_graph.graph, with_labels=True, pos=pos, node_color=highlight(error_nodes,dec_graph))"
   ]
  },
  {
   "cell_type": "markdown",
   "id": "d8adf164",
   "metadata": {},
   "source": [
    "Here there are two minimal ways to pair nodes 8 and 17:\n",
    "* via the boundary;\n",
    "* vertically.\n",
    "\n",
    "The former implies the same kind of process we just saw: the leftmost qubit is flipped, but then gets flipped back. The latter implies a different pair of errors: faulty results for the leftmost syndrome measurement in the second and third rounds.\n",
    "\n",
    "So which actually happened? The answer is, that we don't actually care. The life stories of individual qubits are not important. Things are only important if they are important to our logical operation. In this case, that means figuring out how to get a logical readout from the final measurements of the qubits.\n",
    "\n",
    "Since neither boundary node is involved, and since the boundary nodes are tied explicitly to the trustworthness of the boundary qubits for logical readout, we know that we can take the raw value of either. Regardless of what kind of error happened.\n",
    "\n",
    "Similarly for the following example."
   ]
  },
  {
   "cell_type": "code",
   "execution_count": null,
   "id": "ebb6045d",
   "metadata": {},
   "outputs": [],
   "source": [
    "error_nodes = code.string2nodes('11011 0110 0110 0110 0110 0110 0010 0000', all_logicals=True)\n",
    "mpl_draw(dec_graph.graph, with_labels=True, pos=pos, node_color=highlight(error_nodes,dec_graph))"
   ]
  },
  {
   "cell_type": "markdown",
   "id": "0cbd1745",
   "metadata": {},
   "source": [
    "It looks like the middle code qubit got flipped and a syndrome measurement lied, but exactly where and when is ambigious. And also irrelevant, since neither involves the two qubits that we might choose to consult for final readout."
   ]
  },
  {
   "cell_type": "markdown",
   "id": "ce1a28b1",
   "metadata": {},
   "source": [
    "## Decoding in action\n",
    "\n",
    "Now we'll take a specific example to see decoding in action. To keep things simple we'll use the `d=9`, `T=0` repetition code. This is actually entirely non-quantum, since it doesn't even involve `cx` gates. It is just the principle of repeating things, and then going with the majority. Nevertheless, the problem of decoding can be dealt with in the same way."
   ]
  },
  {
   "cell_type": "code",
   "execution_count": null,
   "id": "ac17d8a2",
   "metadata": {},
   "outputs": [],
   "source": [
    "d,T = 9,0\n",
    "code = RepetitionCodeCircuit(d,T,resets=True)\n",
    "code.readout()"
   ]
  },
  {
   "cell_type": "markdown",
   "id": "0d3633bd",
   "metadata": {},
   "source": [
    "This will just give the final readout of the code qubits, which will be a repetition of the stored logical value."
   ]
  },
  {
   "cell_type": "code",
   "execution_count": null,
   "id": "edc71a4d",
   "metadata": {},
   "outputs": [],
   "source": [
    "from qiskit import Aer\n",
    "backend_sim = Aer.get_backend('qasm_simulator')\n",
    "\n",
    "for logical, qc in code.circuit.items():\n",
    "    job = backend_sim.run(qc)\n",
    "    counts = job.result().get_counts()\n",
    "    output = list(counts.keys())[0]\n",
    "    print('Output for a stored',logical,'is',output)"
   ]
  },
  {
   "cell_type": "markdown",
   "id": "dca466f6",
   "metadata": {},
   "source": [
    "For this code we get the following decoding graph."
   ]
  },
  {
   "cell_type": "code",
   "execution_count": null,
   "id": "5d028b98",
   "metadata": {},
   "outputs": [],
   "source": [
    "dec_graph = DecodingGraph(code)\n",
    "\n",
    "pos = get_pos(dec_graph)\n",
    "mpl_draw(dec_graph.graph, with_labels=True, pos=pos)"
   ]
  },
  {
   "cell_type": "markdown",
   "id": "50921ce5",
   "metadata": {},
   "source": [
    "To understand it better, let's randomly generate a stored logical bit, and then add in some random bit flip errors."
   ]
  },
  {
   "cell_type": "code",
   "execution_count": null,
   "id": "68882883",
   "metadata": {},
   "outputs": [],
   "source": [
    "from random import random, choice\n",
    "\n",
    "# error probability\n",
    "p = 0.25\n",
    "\n",
    "# choose logical value\n",
    "logical = choice(['0','1'])\n",
    "\n",
    "# create final readout string, inserting random errors\n",
    "string = [logical]*d\n",
    "\n",
    "for j in range(d):\n",
    "    if random()<p:\n",
    "        if string[j]=='0':\n",
    "            string[j] = '1'\n",
    "        else:\n",
    "            string[j] = '0'\n",
    "\n",
    "# compile final string\n",
    "string = ''.join(string)\n",
    "print('Output:       ',string)"
   ]
  },
  {
   "cell_type": "markdown",
   "id": "425d58bd",
   "metadata": {},
   "source": [
    "So what was the original encoded logical value that led to the above result? We need to decode.\n",
    "\n",
    "Given the specific code we have used, we could decode using a boring classical method of seeing which value is in the majority. But that's not compatible with the needs of our quantum codes (as I say in my lecture) so we won't do that.\n",
    "\n",
    "Of course, we instead use the very graph-based method we've been talking about so far. So let's take a look at the graph."
   ]
  },
  {
   "cell_type": "code",
   "execution_count": null,
   "id": "36e14cf6",
   "metadata": {},
   "outputs": [],
   "source": [
    "error_nodes = code.string2nodes(string, all_logicals=True)\n",
    "mpl_draw(dec_graph.graph, with_labels=True, pos=pos, node_color=highlight(error_nodes,dec_graph))"
   ]
  },
  {
   "cell_type": "markdown",
   "id": "9d028338",
   "metadata": {},
   "source": [
    "In general we can expect to see obvious pairs of nodes in the bulk, and maybe lonely nodes at the boundaries. In the latter case we can conclude that these need to pair with their nearest boundary. And when they do, it tells us that using the corresponding boundary code qubit for a raw readout will give us the wrong result.\n",
    "\n",
    "So let's get our raw readout specifically from the left boundary code qubit. Given the graph above, should that boundary be paired? Input your answer in the code block below."
   ]
  },
  {
   "cell_type": "code",
   "execution_count": null,
   "id": "ce4fee14",
   "metadata": {},
   "outputs": [],
   "source": [
    "left_boundary_paired = True"
   ]
  },
  {
   "cell_type": "markdown",
   "id": "daf5a6ee",
   "metadata": {},
   "source": [
    "Now to get the corrected output. We get the value from the left boundary, and then flip it if the left boundary is paired. This gives our corrected readout of the logical value."
   ]
  },
  {
   "cell_type": "code",
   "execution_count": null,
   "id": "21d9175e",
   "metadata": {},
   "outputs": [],
   "source": [
    "def correct_readout(logical, string,left_boundary_paired):\n",
    "    print('Encoded logical value:     ',logical)\n",
    "\n",
    "    logical_readout = string[0]\n",
    "    print('Raw logical readout:       ',logical_readout)\n",
    "\n",
    "    if left_boundary_paired:\n",
    "        logical_readout = str((int(logical_readout)+1)%2)\n",
    "\n",
    "    print('Corrected logical readout: ',logical_readout)\n",
    "    if logical_readout==logical:\n",
    "        print('Correction successful!      :)')\n",
    "    else:\n",
    "        print('Correction failed!          :(')\n",
    "\n",
    "correct_readout(logical, string, left_boundary_paired)"
   ]
  },
  {
   "cell_type": "markdown",
   "id": "b5dfce7e",
   "metadata": {},
   "source": [
    "Try it a few more times by going back and generating a new output."
   ]
  },
  {
   "cell_type": "markdown",
   "id": "6265d9d3",
   "metadata": {},
   "source": [
    "## When decoding fails"
   ]
  },
  {
   "cell_type": "markdown",
   "id": "a9302f3b",
   "metadata": {},
   "source": [
    "Suppose we had a stored logical `0`, and the final output came out as `100000000`."
   ]
  },
  {
   "cell_type": "code",
   "execution_count": null,
   "id": "ac6ba504",
   "metadata": {},
   "outputs": [],
   "source": [
    "logical = '0'\n",
    "string = '100000000'\n",
    "error_nodes = code.string2nodes(string, all_logicals=True)\n",
    "mpl_draw(dec_graph.graph, with_labels=True, pos=pos, node_color=highlight(error_nodes,dec_graph))"
   ]
  },
  {
   "cell_type": "markdown",
   "id": "51fea6b0",
   "metadata": {},
   "source": [
    "We would not hestitate to delare that the left boundary should be paired, and correct accordingly."
   ]
  },
  {
   "cell_type": "code",
   "execution_count": null,
   "id": "b8a05a15",
   "metadata": {},
   "outputs": [],
   "source": [
    "left_boundary_paired = True\n",
    "correct_readout(logical,string,left_boundary_paired)"
   ]
  },
  {
   "cell_type": "markdown",
   "id": "f30e922e",
   "metadata": {},
   "source": [
    "But what if two qubits were flipped, rather than just one?"
   ]
  },
  {
   "cell_type": "code",
   "execution_count": null,
   "id": "4591fba0",
   "metadata": {},
   "outputs": [],
   "source": [
    "string = '110000000'\n",
    "error_nodes = code.string2nodes(string, all_logicals=True)\n",
    "mpl_draw(dec_graph.graph, with_labels=True, pos=pos, node_color=highlight(error_nodes,dec_graph))"
   ]
  },
  {
   "cell_type": "markdown",
   "id": "41a66b10",
   "metadata": {},
   "source": [
    "It still makes most sense to pair with the left, so all would still be fine. The same would be true even if four errors occurred in a line."
   ]
  },
  {
   "cell_type": "code",
   "execution_count": null,
   "id": "58bce2ab",
   "metadata": {},
   "outputs": [],
   "source": [
    "string = '111100000'\n",
    "error_nodes = code.string2nodes(string, all_logicals=True)\n",
    "mpl_draw(dec_graph.graph, with_labels=True, pos=pos, node_color=highlight(error_nodes,dec_graph))"
   ]
  },
  {
   "cell_type": "markdown",
   "id": "63bce2e0",
   "metadata": {},
   "source": [
    "We have a single node that can be paired with the left or right boundary. But the left boundary is closer, so we go for that.\n",
    "\n",
    "But what about five flips?"
   ]
  },
  {
   "cell_type": "code",
   "execution_count": null,
   "id": "1a4c23d4",
   "metadata": {},
   "outputs": [],
   "source": [
    "string = '111110000'\n",
    "error_nodes = code.string2nodes(string, all_logicals=True)\n",
    "mpl_draw(dec_graph.graph, with_labels=True, pos=pos, node_color=highlight(error_nodes,dec_graph))"
   ]
  },
  {
   "cell_type": "markdown",
   "id": "5c380e36",
   "metadata": {},
   "source": [
    "This situation can be explained by there being five flips on the left side of the code, or four flips on the right. If all flips are equally likely, its more probably that the four flips on the left occurred. So we pair node 4 with the right boundary."
   ]
  },
  {
   "cell_type": "code",
   "execution_count": null,
   "id": "0553cf29",
   "metadata": {},
   "outputs": [],
   "source": [
    "left_boundary_paired = False"
   ]
  },
  {
   "cell_type": "markdown",
   "id": "99ceffee",
   "metadata": {},
   "source": [
    "And decode accordingly."
   ]
  },
  {
   "cell_type": "code",
   "execution_count": null,
   "id": "63da5148",
   "metadata": {},
   "outputs": [],
   "source": [
    "correct_readout(logical, string,left_boundary_paired)"
   ]
  },
  {
   "cell_type": "markdown",
   "id": "1753ecb2",
   "metadata": {},
   "source": [
    "Our 'corrected' readout is therefore incorrect!\n",
    "\n",
    "A similar thing would happen for five flips on the right side of the code."
   ]
  },
  {
   "cell_type": "code",
   "execution_count": null,
   "id": "dd63781c",
   "metadata": {},
   "outputs": [],
   "source": [
    "string = '000011111'\n",
    "error_nodes = code.string2nodes(string, all_logicals=True)\n",
    "mpl_draw(dec_graph.graph, with_labels=True, pos=pos, node_color=highlight(error_nodes,dec_graph))"
   ]
  },
  {
   "cell_type": "markdown",
   "id": "4ac6d0b3",
   "metadata": {},
   "source": [
    "In this case we conclude that the leftmost boundary *should* be paired."
   ]
  },
  {
   "cell_type": "code",
   "execution_count": null,
   "id": "4ad219d2",
   "metadata": {},
   "outputs": [],
   "source": [
    "left_boundary_paired = True"
   ]
  },
  {
   "cell_type": "markdown",
   "id": "ce411097",
   "metadata": {},
   "source": [
    "We therefore don't trust our raw logical readout, even though it is correct."
   ]
  },
  {
   "cell_type": "markdown",
   "id": "4afa454d",
   "metadata": {},
   "source": []
  },
  {
   "cell_type": "code",
   "execution_count": null,
   "id": "0912122e",
   "metadata": {},
   "outputs": [],
   "source": [
    "correct_readout(logical,string,left_boundary_paired)"
   ]
  },
  {
   "cell_type": "markdown",
   "id": "110f5744",
   "metadata": {},
   "source": [
    "In fact, any set of 5 or more errors will cause the decoding to fail.\n",
    "\n",
    "This is because the repetition code is built on the idea that repeating a value makes it easier to protect. For $d$ repetitions, you'd need to flip at least half in order for the correct value to no longer have the majority. For $d=9$ that means flipping more that 4.5, and hence 5 or more.\n",
    "\n",
    "We can protect against these failures by increasing the size of our code. The number of errors required to fool the decoder will therefore increase. But there's no way to fully protect against the fact that sometimes, our attempts at correction will actually serve to consolidate very large errors."
   ]
  },
  {
   "cell_type": "markdown",
   "id": "ca299cb9",
   "metadata": {},
   "source": [
    "## Now let's decode!"
   ]
  },
  {
   "attachments": {},
   "cell_type": "markdown",
   "id": "c1862f19",
   "metadata": {},
   "source": [
    "Decoding is a bit like a puzzle game. So let's play it as a game!\n",
    "\n",
    "Specifically, we'll use a new implementation of my *Decodoku* citizen science project from 2016 (see the blog [here](http://decodoku.blogspot.com/2016/03/quantum-error-correction-game.html) for more info).\n",
    "\n",
    "![](decodoku_pic.jpg)\n",
    "\n",
    "A version of this now lives in Qiskit QEC, so we can just import the game."
   ]
  },
  {
   "cell_type": "code",
   "execution_count": null,
   "id": "03fbff05",
   "metadata": {},
   "outputs": [],
   "source": [
    "from qiskit_qec.utils.decodoku import Decodoku"
   ]
  },
  {
   "cell_type": "markdown",
   "id": "89832ac5",
   "metadata": {},
   "source": [
    "The game is played on a fairly abstract decoding graph, defined by a size `d`. You can think of it as various things, most notably:\n",
    "* a `d=d`, `T=d` repetition code;\n",
    "* or as a slightly rectangular distance `d` surface code with `T=0`.\n",
    "\n",
    "But we don't really have to think about what code is behind it: we have a decoding graph, so our job is to get decoding!\n",
    "\n",
    "We'll start with one for `d=9` and an error probability `p=0.1`."
   ]
  },
  {
   "cell_type": "code",
   "execution_count": null,
   "id": "7923b92b",
   "metadata": {},
   "outputs": [],
   "source": [
    "game = Decodoku(d=9, p=0.1)"
   ]
  },
  {
   "cell_type": "markdown",
   "id": "dd6f5721",
   "metadata": {},
   "source": [
    "The decoding graph object on which the game is based can be accessed using `game.decoding_graph`. There's also a method that plots is nicely for us, so let's take a look."
   ]
  },
  {
   "cell_type": "code",
   "execution_count": null,
   "id": "6a07748c",
   "metadata": {},
   "outputs": [],
   "source": [
    "game.draw_graph()"
   ]
  },
  {
   "cell_type": "markdown",
   "id": "ab148d94",
   "metadata": {},
   "source": [
    "The boundary nodes represent some collective property of the errors that is relevant for our logical operator. For the repetition code memory experiments dicussed above, this would be whether or not the logical output needs to be corrected. But we can keep things abstract here. They are just some logical thing, and we need to know the correction to apply.\n",
    "\n",
    "Because this is a game, we know what the correct answer is. You can cheat by looking it up as follows. The list shows the correction that needs to be applied to the left and right boundaries, respectively."
   ]
  },
  {
   "cell_type": "code",
   "execution_count": null,
   "id": "d8078f80",
   "metadata": {},
   "outputs": [],
   "source": [
    "game.boundary_errors"
   ]
  },
  {
   "cell_type": "markdown",
   "id": "449e12ea",
   "metadata": {},
   "source": [
    "But we need to work it out for ourselves. You can actually interact with the problem using the following cell.\n",
    "\n",
    "The idea is that you are going to clean up the syndrome. You do this by moving highlighted nodes together. We think of this as identifying that there was some common set of errors that created them. By moving them together, we get what the syndrome would have been if that error was corrected. Since errors create highlighted nodes in pairs, moving a pair together 'annihilates' them.\n",
    "\n",
    "If you think a highlighted node belongs with a boundary, then move it to that boundary. The total effect of all these interactions with the boundary determine the final correction for the decoding you've done.\n",
    "\n",
    "**How to move nodes**\n",
    "* Choose a red square to move by clicking on it.\n",
    "* To move it, choose the new location by clicking on it.\n",
    "* To cancel your selection, press 'Next'.\n",
    "* Note: When moving to a boundary, it doesn't matter where in the boundary you move it to.\n",
    "\n",
    "**How the game ends**\n",
    "* The game ends when all highlighted nodes have been removed.\n",
    "* The `boundary_errors` that needed to be corrected are shown at the top of each boundary.\n",
    "* The `boundary_corrections` calculated by your solution are shown at the bottom.\n",
    "* Press 'Next' to start another game.\n"
   ]
  },
  {
   "cell_type": "code",
   "execution_count": null,
   "id": "bfc6ef9f",
   "metadata": {},
   "outputs": [],
   "source": [
    "game.run()"
   ]
  },
  {
   "attachments": {},
   "cell_type": "markdown",
   "id": "d34aac85",
   "metadata": {},
   "source": [
    "Of course, for actual fault-tolerant quantum computation we aren't really going to do this manually. We want to define algorithms to do it for us.\n",
    "\n",
    "Below is an example of such a decoder. It splits the highlighted nodes into a set of clusters. Each cluster should contain either an even number of nodes (so that they can be multually annihilated) or should contain a boundary (so that any spare nodes can be paired with that). By looking at the clusters that contain the boundaries, we can see what correction is suggusted by the decoder.\n",
    "\n",
    "Specifically, it is a very simple and pretty bad decoder. It splits everything into only two clusters: one for each boundary. It assumes that every highlighted node on the right side of the code should be used to determine the correction for the right, and all on the left should be used for the correction on the left.\n",
    "\n",
    "*Note: Decodoku uses nodes represented by Python dictionaries, rather than using Qiskit-QEC's custom node class. So some details of the decoders here would need to be adapted to work on other codes. The main details are the same, though.*"
   ]
  },
  {
   "cell_type": "code",
   "execution_count": null,
   "id": "b740b1ee",
   "metadata": {},
   "outputs": [],
   "source": [
    "def process(game):\n",
    "    \n",
    "    d = game.d\n",
    "    decoding_graph = game.decoding_graph\n",
    "    nodes = decoding_graph.graph.nodes()\n",
    "\n",
    "    # we'll split nodes into two clusters\n",
    "    clusters = {}\n",
    "    # cluster 0 is defined the one containing the left boundary, and cluster 1 is the one with the right\n",
    "    for n, node in enumerate(nodes):\n",
    "        if node['is_boundary']:\n",
    "            clusters[n] = node['index']\n",
    "\n",
    "    # we now divide the highlighted nodes into these two, depending on which edge they are closest to\n",
    "    for n, node in enumerate(nodes):\n",
    "        if node['highlighted']:\n",
    "            if node['x']<(d-1)/2:\n",
    "                clusters[n] = 0\n",
    "            else:\n",
    "                clusters[n] = 1\n",
    "\n",
    "    # the parity of the number of nodes in each cluster determines the correction\n",
    "    parity = [0,0]\n",
    "    for n in clusters:\n",
    "        node = nodes[n]\n",
    "        if not node['is_boundary']:\n",
    "            parity[clusters[n]] = (parity[clusters[n]]+1)%2\n",
    "    boundary_corrections = parity\n",
    "            \n",
    "    return boundary_corrections, clusters"
   ]
  },
  {
   "cell_type": "markdown",
   "id": "bbf7d04d",
   "metadata": {},
   "source": [
    "When we write an function in this form (with this input and these outputs), we can include it in the initialization of a puzzle."
   ]
  },
  {
   "cell_type": "code",
   "execution_count": null,
   "id": "564ef040",
   "metadata": {},
   "outputs": [],
   "source": [
    "game = Decodoku(d=9, p=0.1, process=process)"
   ]
  },
  {
   "cell_type": "markdown",
   "id": "d32419bd",
   "metadata": {},
   "source": [
    "Then if we draw the graph, it will show the clusters that the nodes have been separated into. It also shows the `boundary_correction` output by the decoder."
   ]
  },
  {
   "cell_type": "code",
   "execution_count": null,
   "id": "a7749a15",
   "metadata": {},
   "outputs": [],
   "source": [
    "game.draw_graph()"
   ]
  },
  {
   "cell_type": "markdown",
   "id": "d007bdce",
   "metadata": {},
   "source": [
    "We can then use this as a guide when playing the game."
   ]
  },
  {
   "cell_type": "code",
   "execution_count": null,
   "id": "f7475885",
   "metadata": {},
   "outputs": [],
   "source": [
    "game.run()"
   ]
  },
  {
   "cell_type": "markdown",
   "id": "2b56583f",
   "metadata": {},
   "source": [
    "Of course, it's not a very good guide because it's not a good decoder. Note that if we redraw the graph after making some moves, it will rerun the decoder for the new syndrome. We can use this to probe the behaviour of the decoder."
   ]
  },
  {
   "cell_type": "code",
   "execution_count": null,
   "id": "8e7916e0",
   "metadata": {},
   "outputs": [],
   "source": [
    "game.draw_graph()"
   ]
  },
  {
   "cell_type": "markdown",
   "id": "23bb1f18",
   "metadata": {},
   "source": [
    "This is the specific decoding problem that we'll be considering for the next few lectures."
   ]
  },
  {
   "cell_type": "markdown",
   "id": "1b9fed92",
   "metadata": {},
   "source": [
    "## Towards a threshold\n",
    "\n",
    "In the future, decoders will be for actually decoding quantum computers. In the past, they were for something else: making graphs to put in papers! So let's make those graphs."
   ]
  },
  {
   "cell_type": "code",
   "execution_count": null,
   "id": "cd1c0feb",
   "metadata": {},
   "outputs": [],
   "source": [
    "from matplotlib import pyplot as plt"
   ]
  },
  {
   "cell_type": "markdown",
   "id": "ccdb0214",
   "metadata": {},
   "source": [
    "We want to see how the code/decoder perform for different cases. The classic paramters to vary are code size (paramaterized, for example, by the code distance) and the strength of the noise. In our case, this is `d` and `p`.\n",
    "\n",
    "So let's run for a few different sizes and noise strengths, and determine the probability of a logical error: when the `boundary_corrections` of the decoder do not match the `boundary_corrections` we know are required."
   ]
  },
  {
   "cell_type": "code",
   "execution_count": null,
   "id": "7027d72d",
   "metadata": {
    "scrolled": false
   },
   "outputs": [],
   "source": [
    "ds = [5, 15, 25]\n",
    "ps = [0.01, 0.025, 0.05, 0.075, 0.1, 0.125, 0.15]\n",
    "\n",
    "def get_logical_probs(ds,ps,process):\n",
    "\n",
    "    logical_probs = {}\n",
    "\n",
    "    for d in ds:\n",
    "\n",
    "        logical_probs[d] = []\n",
    "\n",
    "        for p in ps:\n",
    "\n",
    "            error_num = 0\n",
    "            sample_num = 0\n",
    "\n",
    "            game = Decodoku(d=d, p=p, process=process)\n",
    "\n",
    "            for _ in range(10**3):\n",
    "\n",
    "                bc, clusters = game.process(game)\n",
    "\n",
    "                error_num += bc!=game.boundary_errors\n",
    "                sample_num += 1\n",
    "\n",
    "                game.restart()\n",
    "\n",
    "            logical_probs[d].append(error_num/sample_num)\n",
    "            \n",
    "    return logical_probs\n",
    "\n",
    "logical_probs = get_logical_probs(ds,ps,process)"
   ]
  },
  {
   "cell_type": "markdown",
   "id": "2314c3c1",
   "metadata": {},
   "source": [
    "The classic way to present this data is a plot of the logical error probability against the error probability `p`, with different curves for different values of `d`."
   ]
  },
  {
   "cell_type": "code",
   "execution_count": null,
   "id": "49aa8c8a",
   "metadata": {},
   "outputs": [],
   "source": [
    "def threshold_plot(logical_probs):\n",
    "    plt.figure(figsize=(10,7))\n",
    "    for d in ds:\n",
    "        plt.scatter(ps,logical_probs[d],label='d='+str(d))\n",
    "    plt.xlabel('p')\n",
    "    plt.ylabel('logical prob')\n",
    "    plt.legend()\n",
    "    \n",
    "threshold_plot(logical_probs)"
   ]
  },
  {
   "cell_type": "markdown",
   "id": "8436ebc5",
   "metadata": {},
   "source": [
    "Here we see that larger codes behave worse than smaller ones. This is not the behaviour we want to see at all! Instead, we want to see larger codes offering ever better error suppression. The issue is with our decoder, which is far too simple to be useful.\n",
    "\n",
    "It's problem is that errors in the center confuse it."
   ]
  },
  {
   "cell_type": "code",
   "execution_count": null,
   "id": "f37ee66c",
   "metadata": {},
   "outputs": [],
   "source": [
    "d = 9\n",
    "center_error = [((d-1)/2,(d-1)/2,(d-1)/2+1,(d-1)/2)]\n",
    "game = Decodoku(d=d, process=process, errors=center_error)\n",
    "game.draw_graph()"
   ]
  },
  {
   "cell_type": "markdown",
   "id": "393735c1",
   "metadata": {},
   "source": [
    "Here we have a simple error in the center, creating a pair of nodes that obviously should be paired. But the decoder instead drags each towards its nearest boundary.\n",
    "\n",
    "To fix this particular problem, we can modify the decoder to check the central strip. If it contains an even number of highlighted nodes, we then cancel them with each other by putting them all together in a third cluster. One that is not connected with an boundary, and so one for which it must be possible to correct them independently of the boundaries."
   ]
  },
  {
   "cell_type": "code",
   "execution_count": null,
   "id": "2a1b5fa4",
   "metadata": {},
   "outputs": [],
   "source": [
    "def process_better(game):\n",
    "    \n",
    "    d = game.d\n",
    "    decoding_graph = game.decoding_graph\n",
    "    nodes = decoding_graph.graph.nodes().copy()\n",
    "    \n",
    "    clusters = {}\n",
    "    # we'll split nodes into at least two clusters\n",
    "    clusters = {}\n",
    "    # cluster 0 is defined the one containing the left boundary, and cluster 1 is the one with the right\n",
    "    for n, node in enumerate(nodes):\n",
    "        if node['is_boundary']:\n",
    "            clusters[n] = node['index']\n",
    "    \n",
    "    # we may also have a third, dependng on how many highlighted nodes are in the central strip\n",
    "    center = []\n",
    "    for n,node in enumerate(nodes):\n",
    "        if node['x'] in [int((d-1)/2)-1, int((d-1)/2)]:\n",
    "            if node['highlighted']:\n",
    "                center.append(n)\n",
    "    \n",
    "    # if even, they can form a neutral cluster\n",
    "    # we'll label this as cluster 2\n",
    "    if len(center)%2==0:\n",
    "        for n in center:\n",
    "            node = nodes[n]\n",
    "            if node['highlighted']:\n",
    "                clusters[n] = 2\n",
    "                # since these are dealt with, we unhighlight them in this copy of the node list\n",
    "                node['highlighted'] = False\n",
    "    \n",
    "    # we now divide the rest of the highlighted nodes into the first two clusters,\n",
    "    # depending on which edge they are closest to\n",
    "    for n, node in enumerate(nodes):\n",
    "        if node['highlighted']:\n",
    "            if node['x']<(d-1)/2:\n",
    "                clusters[n] = 0\n",
    "            else:\n",
    "                clusters[n] = 1\n",
    "\n",
    "    # the parity of the number of nodes in the first two clusters determines the correction\n",
    "    parity = [0,0]\n",
    "    for n in clusters:\n",
    "        if n<2:\n",
    "            node = nodes[n]\n",
    "            if not node['is_boundary']:\n",
    "                parity[clusters[n]] = (parity[clusters[n]]+1)%2\n",
    "    boundary_corrections = parity\n",
    "            \n",
    "    return boundary_corrections, clusters"
   ]
  },
  {
   "cell_type": "markdown",
   "id": "c3aef873",
   "metadata": {},
   "source": [
    "This is not confused by our single central error."
   ]
  },
  {
   "cell_type": "code",
   "execution_count": null,
   "id": "d7910207",
   "metadata": {},
   "outputs": [],
   "source": [
    "game = Decodoku(d=d, process=process_better, errors=center_error)\n",
    "\n",
    "game.draw_graph()"
   ]
  },
  {
   "cell_type": "markdown",
   "id": "33df2ff5",
   "metadata": {},
   "source": [
    "But it is still easy to confuse."
   ]
  },
  {
   "cell_type": "code",
   "execution_count": null,
   "id": "7f563dc8",
   "metadata": {},
   "outputs": [],
   "source": [
    "off_center_error = [((d-1)/2-1,0,(d-1)/2,0)]\n",
    "\n",
    "game = Decodoku(d=d, process=process_better, errors=center_error+off_center_error)\n",
    "\n",
    "game.draw_graph()"
   ]
  },
  {
   "cell_type": "markdown",
   "id": "bd5d675c",
   "metadata": {},
   "source": [
    "Running random samples will show you a lot more ways that things can go wrong."
   ]
  },
  {
   "cell_type": "code",
   "execution_count": null,
   "id": "a469245f",
   "metadata": {},
   "outputs": [],
   "source": [
    "game = Decodoku(d=d, process=process_better)\n",
    "\n",
    "game.draw_graph()"
   ]
  },
  {
   "cell_type": "markdown",
   "id": "2576cc67",
   "metadata": {},
   "source": [
    "Now we are halfway through the course, and we have a fully functioning example of a bad decoder. But now we have all we need to start making good ones!"
   ]
  },
  {
   "cell_type": "code",
   "execution_count": null,
   "id": "b66564af",
   "metadata": {},
   "outputs": [],
   "source": []
  }
 ],
 "metadata": {
  "kernelspec": {
   "display_name": "qiskit_qec_env",
   "language": "python",
   "name": "python3"
  },
  "language_info": {
   "codemirror_mode": {
    "name": "ipython",
    "version": 3
   },
   "file_extension": ".py",
   "mimetype": "text/x-python",
   "name": "python",
   "nbconvert_exporter": "python",
   "pygments_lexer": "ipython3",
   "version": "3.10.4"
  },
  "vscode": {
   "interpreter": {
    "hash": "d0c97c6e336ba8a43726fa4b7f85b3d6fc40e6f311d3e8fe15ffb6db6aa1925b"
   }
  }
 },
 "nbformat": 4,
 "nbformat_minor": 5
}
