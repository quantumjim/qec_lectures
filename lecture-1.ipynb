{
 "cells": [
  {
   "cell_type": "markdown",
   "id": "1293385b",
   "metadata": {},
   "source": [
    "![](title_slide.png)"
   ]
  },
  {
   "cell_type": "markdown",
   "id": "4b5fcc50",
   "metadata": {},
   "source": [
    "# Lecture 1: Running Circuits and Interpreting Outputs\n",
    "### James R. Wootton, IBM Quantum"
   ]
  },
  {
   "cell_type": "markdown",
   "id": "85f6d109",
   "metadata": {},
   "source": [
    "## Memory experiments\n",
    "\n",
    "* Quantum error correction circuits are full of measurements, designed to give us clues about the errors that occur.\n",
    "* In fault-tolerant quantum computation, these results emerge while we run our algorithms. We need to process and feed insights back into the algorithm in order to correct the effects of errors.\n",
    "* Currently and in the near-term, we instead run memory experiments. These end with a readout of the logical qubit, for which errors can be fixed in post-processing.\n",
    "* In these lectures, we'll specifically be looking at topics as they apply to memory experiments."
   ]
  },
  {
   "attachments": {},
   "cell_type": "markdown",
   "id": "206a52dc",
   "metadata": {},
   "source": [
    "## Repetiton codes with Qiskit\n",
    "\n",
    "* Let's start with the simplest form of quantum error correction: the repetition code.\n",
    "* For background on this, see [my lecture on repetition codes](https://www.youtube.com/watch?v=AuDfq7j_W7E).\n",
    "* Though it stores a logical *bit* rather than a logical *qubit*, it uses all the methodology of quantum error correction.\n",
    "* To make repetition codes with Qiskit, we'll use `QuantumCircuit`, `QuantumRegister` and `ClassicalRegister` objects.\n",
    "* For an intro to qiskit see the sections [Python and Jupyter Notebooks](https://qiskit.org/textbook/ch-prerequisites/python-and-jupyter-notebooks.html) and [Qiskit](https://qiskit.org/textbook/ch-appendix/qiskit.html) from the Qiskit textbook, and/or [my lecture on using Qiskit](https://www.youtube.com/watch?v=IdZkxX-Qank)."
   ]
  },
  {
   "cell_type": "code",
   "execution_count": null,
   "id": "6bc52aab",
   "metadata": {},
   "outputs": [],
   "source": [
    "from qiskit import QuantumCircuit, QuantumRegister, ClassicalRegister"
   ]
  },
  {
   "cell_type": "markdown",
   "id": "fad920ad",
   "metadata": {},
   "source": [
    "We'll need to decide how big we want the code to be. Specifcially:\n",
    "* the number of repetitions `d`;\n",
    "* the number of syndrome measurement rounds `T`.\n",
    "\n",
    "To be able to see the circuits easily, we'll start with the minimum value for `d`"
   ]
  },
  {
   "cell_type": "markdown",
   "id": "4ea018ae",
   "metadata": {},
   "source": []
  },
  {
   "cell_type": "code",
   "execution_count": null,
   "id": "d04f526f",
   "metadata": {},
   "outputs": [],
   "source": [
    "d = 3"
   ]
  },
  {
   "cell_type": "markdown",
   "id": "1ea6f552",
   "metadata": {},
   "source": [
    "Let's also increase the value of `T` as we add measurement rounds to the circuit. So since we start with none..."
   ]
  },
  {
   "cell_type": "code",
   "execution_count": null,
   "id": "85e3f860",
   "metadata": {},
   "outputs": [],
   "source": [
    "T = 0"
   ]
  },
  {
   "cell_type": "markdown",
   "id": "9f2889fc",
   "metadata": {},
   "source": [
    "We start with an empty circuit"
   ]
  },
  {
   "cell_type": "code",
   "execution_count": null,
   "id": "f95f5ec5",
   "metadata": {},
   "outputs": [],
   "source": [
    "qc = QuantumCircuit()"
   ]
  },
  {
   "cell_type": "markdown",
   "id": "1d1c2efc",
   "metadata": {},
   "source": [
    "So if we draw it, we see nothing."
   ]
  },
  {
   "cell_type": "code",
   "execution_count": null,
   "id": "ed08d9a1",
   "metadata": {},
   "outputs": [],
   "source": [
    "qc.draw(output='mpl')"
   ]
  },
  {
   "cell_type": "markdown",
   "id": "ad411c86",
   "metadata": {},
   "source": [
    "then we add `d` code qubits"
   ]
  },
  {
   "cell_type": "code",
   "execution_count": null,
   "id": "650a840c",
   "metadata": {},
   "outputs": [],
   "source": [
    "code_qubit = QuantumRegister(d, 'code_qubit')\n",
    "qc.add_register( code_qubit )"
   ]
  },
  {
   "cell_type": "markdown",
   "id": "f7a9a220",
   "metadata": {},
   "source": [
    "and `d-1` auxilliary qubits."
   ]
  },
  {
   "cell_type": "code",
   "execution_count": null,
   "id": "caa6d013",
   "metadata": {},
   "outputs": [],
   "source": [
    "link_qubit = QuantumRegister(d-1, 'link_qubit')\n",
    "qc.add_register( link_qubit )"
   ]
  },
  {
   "cell_type": "markdown",
   "id": "9b05c589",
   "metadata": {},
   "source": [
    "Then what we have is a `d=3`, `T=0` code for an encoded logical `0`. Which is still basically an empty circuit, but there are qubits with names waiting for something to happen."
   ]
  },
  {
   "cell_type": "code",
   "execution_count": null,
   "id": "ba2d1cb7",
   "metadata": {},
   "outputs": [],
   "source": [
    "qc.draw(output='mpl')"
   ]
  },
  {
   "cell_type": "markdown",
   "id": "0bcdbf10",
   "metadata": {},
   "source": [
    "Now we can add the `cx` gates required for each syndrome measurement round. Each time this cell is run, it iterates `T` by 1."
   ]
  },
  {
   "cell_type": "code",
   "execution_count": null,
   "id": "7fca0dd1",
   "metadata": {},
   "outputs": [],
   "source": [
    "qc.barrier()\n",
    "\n",
    "# for each link qubit, add a cx for the code qubit on one side\n",
    "for j in range(d-1):\n",
    "    qc.cx(code_qubit[j],link_qubit[j])\n",
    "        \n",
    "# and then one for the other side\n",
    "for j in range(d-1):\n",
    "    qc.cx(code_qubit[j+1],link_qubit[j])\n",
    "    \n",
    "# add a classical register to hold results from this round\n",
    "link_bit = ClassicalRegister(d-1, 'round_'+str(T)+'_link_bit')\n",
    "qc.add_register(link_bit)\n",
    "\n",
    "# measure and then rest each link qubit to extract the syndrome\n",
    "for j in range(d-1):\n",
    "    qc.measure(link_qubit[j],link_bit[j])\n",
    "    qc.reset(link_qubit[j])\n",
    "        \n",
    "# iterate the number of rounds\n",
    "T += 1\n",
    "    \n",
    "qc.draw(output='mpl') # uncomment to draw circuit"
   ]
  },
  {
   "cell_type": "markdown",
   "id": "7934fdb2",
   "metadata": {},
   "source": [
    "This looks a bit nicer if we reorder the qubits."
   ]
  },
  {
   "cell_type": "code",
   "execution_count": null,
   "id": "12ca955c",
   "metadata": {},
   "outputs": [],
   "source": [
    "from qiskit import transpile\n",
    "\n",
    "transpile(qc,initial_layout=[0,2,4,1,3]).draw(output='mpl')"
   ]
  },
  {
   "cell_type": "markdown",
   "id": "660cc67a",
   "metadata": {},
   "source": [
    "So now we have a non-zero number of rounds."
   ]
  },
  {
   "cell_type": "code",
   "execution_count": null,
   "id": "fcbb2873",
   "metadata": {},
   "outputs": [],
   "source": [
    "T"
   ]
  },
  {
   "cell_type": "markdown",
   "id": "c8181dae",
   "metadata": {},
   "source": [
    "You can run the cell that adds the syndrome measurements again to get another round."
   ]
  },
  {
   "cell_type": "markdown",
   "id": "d4aff04b",
   "metadata": {},
   "source": [
    "Then we add the final readout of the code qubits."
   ]
  },
  {
   "cell_type": "code",
   "execution_count": null,
   "id": "976d2570",
   "metadata": {},
   "outputs": [],
   "source": [
    "qc.barrier()\n",
    "\n",
    "# add d bits for final readout of code qubits\n",
    "code_bit = ClassicalRegister(d, 'code_bit')\n",
    "qc.add_register(code_bit)\n",
    "\n",
    "# measure code qubits\n",
    "for j in range(d):\n",
    "    qc.measure(code_qubit[j],code_bit[j])\n",
    "    \n",
    "qc.draw(output='mpl') # uncomment to draw circuit"
   ]
  },
  {
   "cell_type": "markdown",
   "id": "36f44ea5",
   "metadata": {},
   "source": [
    "Now we have a circuit, we need a backend to run it on. We'll start with just a simulator.\n",
    "\n",
    "First we get the backend object for the simulator."
   ]
  },
  {
   "cell_type": "code",
   "execution_count": null,
   "id": "08cd946e",
   "metadata": {},
   "outputs": [],
   "source": [
    "from qiskit import Aer\n",
    "\n",
    "backend_sim = Aer.get_backend('aer_simulator')"
   ]
  },
  {
   "cell_type": "markdown",
   "id": "09b74e79",
   "metadata": {},
   "source": [
    "Then we use this to start the process of running the circuit, by creating the job object."
   ]
  },
  {
   "cell_type": "code",
   "execution_count": null,
   "id": "047fd217",
   "metadata": {},
   "outputs": [],
   "source": [
    "shots = 1000\n",
    "job = backend_sim.run(qc, shots=shots)"
   ]
  },
  {
   "cell_type": "markdown",
   "id": "cf17f847",
   "metadata": {},
   "source": [
    "Once the job has run, we extract the result object from this."
   ]
  },
  {
   "cell_type": "code",
   "execution_count": null,
   "id": "cf950cbd",
   "metadata": {},
   "outputs": [],
   "source": [
    "result = job.result()"
   ]
  },
  {
   "cell_type": "markdown",
   "id": "ab2b918f",
   "metadata": {},
   "source": [
    "From this we can get our actual result: a histogram respresented as a Python dictionary."
   ]
  },
  {
   "cell_type": "code",
   "execution_count": null,
   "id": "d11afd88",
   "metadata": {},
   "outputs": [],
   "source": [
    "counts = result.get_counts()\n",
    "counts"
   ]
  },
  {
   "cell_type": "markdown",
   "id": "a664afa4",
   "metadata": {},
   "source": [
    "Since there are no errors, here we are just getting the noiseless result (`'000 00 00'` for `d=3`, `T=2`) for all of the shots. "
   ]
  },
  {
   "cell_type": "markdown",
   "id": "b919f40e",
   "metadata": {},
   "source": [
    "To see what happens when errors occur, let's manually insert some. Here are some circuits I made earlier."
   ]
  },
  {
   "cell_type": "code",
   "execution_count": null,
   "id": "24e6f917",
   "metadata": {},
   "outputs": [],
   "source": [
    "examples_qasm = ['OPENQASM 2.0;\\ninclude \"qelib1.inc\";\\nqreg code_qubit[3];\\nqreg link_qubit[2];\\ncreg round_0_link_bit[2];\\ncreg round_1_link_bit[2];\\ncreg code_bit[3];\\nx code_qubit[0];\\nbarrier code_qubit[0],code_qubit[1],code_qubit[2],link_qubit[0],link_qubit[1];\\ncx code_qubit[0],link_qubit[0];\\ncx code_qubit[1],link_qubit[1];\\ncx code_qubit[1],link_qubit[0];\\ncx code_qubit[2],link_qubit[1];\\nmeasure link_qubit[0] -> round_0_link_bit[0];\\nreset link_qubit[0];\\nmeasure link_qubit[1] -> round_0_link_bit[1];\\nreset link_qubit[1];\\nbarrier code_qubit[0],code_qubit[1],code_qubit[2],link_qubit[0],link_qubit[1];\\ncx code_qubit[0],link_qubit[0];\\ncx code_qubit[1],link_qubit[1];\\ncx code_qubit[1],link_qubit[0];\\ncx code_qubit[2],link_qubit[1];\\nmeasure link_qubit[0] -> round_1_link_bit[0];\\nreset link_qubit[0];\\nmeasure link_qubit[1] -> round_1_link_bit[1];\\nreset link_qubit[1];\\nbarrier code_qubit[0],code_qubit[1],code_qubit[2],link_qubit[0],link_qubit[1];\\nmeasure code_qubit[0] -> code_bit[0];\\nmeasure code_qubit[1] -> code_bit[1];\\nmeasure code_qubit[2] -> code_bit[2];\\n', 'OPENQASM 2.0;\\ninclude \"qelib1.inc\";\\nqreg code_qubit[3];\\nqreg link_qubit[2];\\ncreg round_0_link_bit[2];\\ncreg round_1_link_bit[2];\\ncreg code_bit[3];\\nbarrier code_qubit[0],code_qubit[1],code_qubit[2],link_qubit[0],link_qubit[1];\\ncx code_qubit[0],link_qubit[0];\\ncx code_qubit[1],link_qubit[1];\\ncx code_qubit[1],link_qubit[0];\\ncx code_qubit[2],link_qubit[1];\\nmeasure link_qubit[0] -> round_0_link_bit[0];\\nreset link_qubit[0];\\nmeasure link_qubit[1] -> round_0_link_bit[1];\\nreset link_qubit[1];\\nx code_qubit[0];\\nbarrier code_qubit[0],code_qubit[1],code_qubit[2],link_qubit[0],link_qubit[1];\\ncx code_qubit[0],link_qubit[0];\\ncx code_qubit[1],link_qubit[1];\\ncx code_qubit[1],link_qubit[0];\\ncx code_qubit[2],link_qubit[1];\\nmeasure link_qubit[0] -> round_1_link_bit[0];\\nreset link_qubit[0];\\nmeasure link_qubit[1] -> round_1_link_bit[1];\\nreset link_qubit[1];\\nbarrier code_qubit[0],code_qubit[1],code_qubit[2],link_qubit[0],link_qubit[1];\\nmeasure code_qubit[0] -> code_bit[0];\\nmeasure code_qubit[1] -> code_bit[1];\\nmeasure code_qubit[2] -> code_bit[2];\\n', 'OPENQASM 2.0;\\ninclude \"qelib1.inc\";\\nqreg code_qubit[3];\\nqreg link_qubit[2];\\ncreg round_0_link_bit[2];\\ncreg round_1_link_bit[2];\\ncreg code_bit[3];\\nbarrier code_qubit[0],code_qubit[1],code_qubit[2],link_qubit[0],link_qubit[1];\\ncx code_qubit[0],link_qubit[0];\\ncx code_qubit[1],link_qubit[1];\\ncx code_qubit[1],link_qubit[0];\\ncx code_qubit[2],link_qubit[1];\\nmeasure link_qubit[0] -> round_0_link_bit[0];\\nreset link_qubit[0];\\nmeasure link_qubit[1] -> round_0_link_bit[1];\\nreset link_qubit[1];\\nbarrier code_qubit[0],code_qubit[1],code_qubit[2],link_qubit[0],link_qubit[1];\\ncx code_qubit[0],link_qubit[0];\\ncx code_qubit[1],link_qubit[1];\\ncx code_qubit[1],link_qubit[0];\\ncx code_qubit[2],link_qubit[1];\\nmeasure link_qubit[0] -> round_1_link_bit[0];\\nreset link_qubit[0];\\nmeasure link_qubit[1] -> round_1_link_bit[1];\\nreset link_qubit[1];\\nx code_qubit[0];\\nbarrier code_qubit[0],code_qubit[1],code_qubit[2],link_qubit[0],link_qubit[1];\\nmeasure code_qubit[0] -> code_bit[0];\\nmeasure code_qubit[1] -> code_bit[1];\\nmeasure code_qubit[2] -> code_bit[2];\\n', 'OPENQASM 2.0;\\ninclude \"qelib1.inc\";\\nqreg code_qubit[3];\\nqreg link_qubit[2];\\ncreg round_0_link_bit[2];\\ncreg round_1_link_bit[2];\\ncreg code_bit[3];\\nx code_qubit[1];\\nbarrier code_qubit[0],code_qubit[1],code_qubit[2],link_qubit[0],link_qubit[1];\\ncx code_qubit[0],link_qubit[0];\\ncx code_qubit[1],link_qubit[1];\\ncx code_qubit[1],link_qubit[0];\\ncx code_qubit[2],link_qubit[1];\\nmeasure link_qubit[0] -> round_0_link_bit[0];\\nreset link_qubit[0];\\nmeasure link_qubit[1] -> round_0_link_bit[1];\\nreset link_qubit[1];\\nbarrier code_qubit[0],code_qubit[1],code_qubit[2],link_qubit[0],link_qubit[1];\\ncx code_qubit[0],link_qubit[0];\\ncx code_qubit[1],link_qubit[1];\\ncx code_qubit[1],link_qubit[0];\\ncx code_qubit[2],link_qubit[1];\\nmeasure link_qubit[0] -> round_1_link_bit[0];\\nreset link_qubit[0];\\nmeasure link_qubit[1] -> round_1_link_bit[1];\\nreset link_qubit[1];\\nbarrier code_qubit[0],code_qubit[1],code_qubit[2],link_qubit[0],link_qubit[1];\\nmeasure code_qubit[0] -> code_bit[0];\\nmeasure code_qubit[1] -> code_bit[1];\\nmeasure code_qubit[2] -> code_bit[2];\\n', 'OPENQASM 2.0;\\ninclude \"qelib1.inc\";\\nqreg code_qubit[3];\\nqreg link_qubit[2];\\ncreg round_0_link_bit[2];\\ncreg round_1_link_bit[2];\\ncreg code_bit[3];\\nbarrier code_qubit[0],code_qubit[1],code_qubit[2],link_qubit[0],link_qubit[1];\\ncx code_qubit[0],link_qubit[0];\\ncx code_qubit[1],link_qubit[1];\\ncx code_qubit[1],link_qubit[0];\\ncx code_qubit[2],link_qubit[1];\\nmeasure link_qubit[0] -> round_0_link_bit[0];\\nreset link_qubit[0];\\nmeasure link_qubit[1] -> round_0_link_bit[1];\\nreset link_qubit[1];\\nx code_qubit[1];\\nbarrier code_qubit[0],code_qubit[1],code_qubit[2],link_qubit[0],link_qubit[1];\\ncx code_qubit[0],link_qubit[0];\\ncx code_qubit[1],link_qubit[1];\\ncx code_qubit[1],link_qubit[0];\\ncx code_qubit[2],link_qubit[1];\\nmeasure link_qubit[0] -> round_1_link_bit[0];\\nreset link_qubit[0];\\nmeasure link_qubit[1] -> round_1_link_bit[1];\\nreset link_qubit[1];\\nbarrier code_qubit[0],code_qubit[1],code_qubit[2],link_qubit[0],link_qubit[1];\\nmeasure code_qubit[0] -> code_bit[0];\\nmeasure code_qubit[1] -> code_bit[1];\\nmeasure code_qubit[2] -> code_bit[2];\\n', 'OPENQASM 2.0;\\ninclude \"qelib1.inc\";\\nqreg code_qubit[3];\\nqreg link_qubit[2];\\ncreg round_0_link_bit[2];\\ncreg round_1_link_bit[2];\\ncreg code_bit[3];\\nbarrier code_qubit[0],code_qubit[1],code_qubit[2],link_qubit[0],link_qubit[1];\\ncx code_qubit[0],link_qubit[0];\\ncx code_qubit[1],link_qubit[1];\\ncx code_qubit[1],link_qubit[0];\\ncx code_qubit[2],link_qubit[1];\\nmeasure link_qubit[0] -> round_0_link_bit[0];\\nreset link_qubit[0];\\nmeasure link_qubit[1] -> round_0_link_bit[1];\\nreset link_qubit[1];\\nbarrier code_qubit[0],code_qubit[1],code_qubit[2],link_qubit[0],link_qubit[1];\\ncx code_qubit[0],link_qubit[0];\\ncx code_qubit[1],link_qubit[1];\\ncx code_qubit[1],link_qubit[0];\\ncx code_qubit[2],link_qubit[1];\\nmeasure link_qubit[0] -> round_1_link_bit[0];\\nreset link_qubit[0];\\nmeasure link_qubit[1] -> round_1_link_bit[1];\\nreset link_qubit[1];\\nx code_qubit[1];\\nbarrier code_qubit[0],code_qubit[1],code_qubit[2],link_qubit[0],link_qubit[1];\\nmeasure code_qubit[0] -> code_bit[0];\\nmeasure code_qubit[1] -> code_bit[1];\\nmeasure code_qubit[2] -> code_bit[2];\\n', 'OPENQASM 2.0;\\ninclude \"qelib1.inc\";\\nqreg code_qubit[3];\\nqreg link_qubit[2];\\ncreg round_0_link_bit[2];\\ncreg round_1_link_bit[2];\\ncreg code_bit[3];\\nbarrier code_qubit[0],code_qubit[1],code_qubit[2],link_qubit[0],link_qubit[1];\\ncx code_qubit[0],link_qubit[0];\\ncx code_qubit[1],link_qubit[1];\\nx code_qubit[1];\\ncx code_qubit[1],link_qubit[0];\\ncx code_qubit[2],link_qubit[1];\\nmeasure link_qubit[0] -> round_0_link_bit[0];\\nreset link_qubit[0];\\nmeasure link_qubit[1] -> round_0_link_bit[1];\\nreset link_qubit[1];\\nbarrier code_qubit[0],code_qubit[1],code_qubit[2],link_qubit[0],link_qubit[1];\\ncx code_qubit[0],link_qubit[0];\\ncx code_qubit[1],link_qubit[1];\\ncx code_qubit[1],link_qubit[0];\\ncx code_qubit[2],link_qubit[1];\\nmeasure link_qubit[0] -> round_1_link_bit[0];\\nreset link_qubit[0];\\nmeasure link_qubit[1] -> round_1_link_bit[1];\\nreset link_qubit[1];\\nbarrier code_qubit[0],code_qubit[1],code_qubit[2],link_qubit[0],link_qubit[1];\\nmeasure code_qubit[0] -> code_bit[0];\\nmeasure code_qubit[1] -> code_bit[1];\\nmeasure code_qubit[2] -> code_bit[2];\\n', 'OPENQASM 2.0;\\ninclude \"qelib1.inc\";\\nqreg code_qubit[3];\\nqreg link_qubit[2];\\ncreg round_0_link_bit[2];\\ncreg round_1_link_bit[2];\\ncreg code_bit[3];\\nbarrier code_qubit[0],code_qubit[1],code_qubit[2],link_qubit[0],link_qubit[1];\\ncx code_qubit[0],link_qubit[0];\\ncx code_qubit[1],link_qubit[1];\\ncx code_qubit[1],link_qubit[0];\\ncx code_qubit[2],link_qubit[1];\\nx link_qubit[1];\\nmeasure link_qubit[0] -> round_0_link_bit[0];\\nreset link_qubit[0];\\nmeasure link_qubit[1] -> round_0_link_bit[1];\\nreset link_qubit[1];\\nbarrier code_qubit[0],code_qubit[1],code_qubit[2],link_qubit[0],link_qubit[1];\\ncx code_qubit[0],link_qubit[0];\\ncx code_qubit[1],link_qubit[1];\\ncx code_qubit[1],link_qubit[0];\\ncx code_qubit[2],link_qubit[1];\\nmeasure link_qubit[0] -> round_1_link_bit[0];\\nreset link_qubit[0];\\nmeasure link_qubit[1] -> round_1_link_bit[1];\\nreset link_qubit[1];\\nbarrier code_qubit[0],code_qubit[1],code_qubit[2],link_qubit[0],link_qubit[1];\\nmeasure code_qubit[0] -> code_bit[0];\\nmeasure code_qubit[1] -> code_bit[1];\\nmeasure code_qubit[2] -> code_bit[2];\\n', 'OPENQASM 2.0;\\ninclude \"qelib1.inc\";\\nqreg code_qubit[3];\\nqreg link_qubit[2];\\ncreg round_0_link_bit[2];\\ncreg round_1_link_bit[2];\\ncreg code_bit[3];\\nbarrier code_qubit[0],code_qubit[1],code_qubit[2],link_qubit[0],link_qubit[1];\\ncx code_qubit[0],link_qubit[0];\\ncx code_qubit[1],link_qubit[1];\\ncx code_qubit[1],link_qubit[0];\\ncx code_qubit[2],link_qubit[1];\\nmeasure link_qubit[0] -> round_0_link_bit[0];\\nreset link_qubit[0];\\nmeasure link_qubit[1] -> round_0_link_bit[1];\\nreset link_qubit[1];\\nbarrier code_qubit[0],code_qubit[1],code_qubit[2],link_qubit[0],link_qubit[1];\\ncx code_qubit[0],link_qubit[0];\\ncx code_qubit[1],link_qubit[1];\\ncx code_qubit[1],link_qubit[0];\\ncx code_qubit[2],link_qubit[1];\\nx link_qubit[1];\\nmeasure link_qubit[0] -> round_1_link_bit[0];\\nreset link_qubit[0];\\nmeasure link_qubit[1] -> round_1_link_bit[1];\\nreset link_qubit[1];\\nbarrier code_qubit[0],code_qubit[1],code_qubit[2],link_qubit[0],link_qubit[1];\\nmeasure code_qubit[0] -> code_bit[0];\\nmeasure code_qubit[1] -> code_bit[1];\\nmeasure code_qubit[2] -> code_bit[2];\\n','OPENQASM 2.0;\\ninclude \"qelib1.inc\";\\nqreg code_qubit[3];\\nqreg link_qubit[2];\\ncreg round_0_link_bit[2];\\ncreg round_1_link_bit[2];\\ncreg code_bit[3];\\nx code_qubit[2];\\nbarrier code_qubit[0],code_qubit[1],code_qubit[2],link_qubit[0],link_qubit[1];\\ncx code_qubit[0],link_qubit[0];\\ncx code_qubit[1],link_qubit[1];\\ncx code_qubit[1],link_qubit[0];\\ncx code_qubit[2],link_qubit[1];\\nmeasure link_qubit[0] -> round_0_link_bit[0];\\nreset link_qubit[0];\\nmeasure link_qubit[1] -> round_0_link_bit[1];\\nreset link_qubit[1];\\nbarrier code_qubit[0],code_qubit[1],code_qubit[2],link_qubit[0],link_qubit[1];\\ncx code_qubit[0],link_qubit[0];\\ncx code_qubit[1],link_qubit[1];\\ncx code_qubit[1],link_qubit[0];\\ncx code_qubit[2],link_qubit[1];\\nmeasure link_qubit[0] -> round_1_link_bit[0];\\nreset link_qubit[0];\\nmeasure link_qubit[1] -> round_1_link_bit[1];\\nreset link_qubit[1];\\nbarrier code_qubit[0],code_qubit[1],code_qubit[2],link_qubit[0],link_qubit[1];\\nmeasure code_qubit[0] -> code_bit[0];\\nmeasure code_qubit[1] -> code_bit[1];\\nmeasure code_qubit[2] -> code_bit[2];\\n']\n",
    "\n",
    "examples = []\n",
    "for qasm in examples_qasm:\n",
    "    examples.append(QuantumCircuit.from_qasm_str(qasm))"
   ]
  },
  {
   "cell_type": "markdown",
   "id": "02e50e6c",
   "metadata": {},
   "source": [
    "The errors in these examples are the following."
   ]
  },
  {
   "cell_type": "code",
   "execution_count": null,
   "id": "a9d760ee",
   "metadata": {},
   "outputs": [],
   "source": [
    "example_explanations = {\n",
    "    0: \"Initialization error on `code_qubit[0]`\",\n",
    "    1: \"Error on `code_qubit[0]` while idle during first round of measurements.\",\n",
    "    2: \"Error on `code_qubit[0]` while idle during second round of measurements.\",\n",
    "    3: \"Initialization error on `code_qubit[1]`\",\n",
    "    4: \"Error on `code_qubit[1]` while idle during first round of measurements.\",\n",
    "    5: \"Error on `code_qubit[1]` while idle during second round of measurements.\",\n",
    "    6: \"Error on `code_qubit[1]` between `cx` gates of first syndrome measurement.\",\n",
    "    7: \"Measurement error on `link_qubit[1]` during first round of measurements.\",\n",
    "    8: \"Measurement error on `link_qubit[1]` during second round of measurements. \",\n",
    "    9: \"Initialization error on `code_qubit[2]`\",\n",
    "}"
   ]
  },
  {
   "cell_type": "markdown",
   "id": "aa26d063",
   "metadata": {},
   "source": [
    "We can now look at each of these by putting in the relevant number below. Let's start with example 3."
   ]
  },
  {
   "cell_type": "code",
   "execution_count": null,
   "id": "395b1b36",
   "metadata": {},
   "outputs": [],
   "source": [
    "example = examples[3]\n",
    "example.draw(output='mpl')"
   ]
  },
  {
   "cell_type": "markdown",
   "id": "c470d4ec",
   "metadata": {},
   "source": [
    "and the effect that it has"
   ]
  },
  {
   "cell_type": "code",
   "execution_count": null,
   "id": "904f0d7a",
   "metadata": {},
   "outputs": [],
   "source": [
    "job = backend_sim.run(example, shots=shots)\n",
    "counts = job.result().get_counts()\n",
    "print(counts)"
   ]
  },
  {
   "cell_type": "markdown",
   "id": "8d659386",
   "metadata": {},
   "source": [
    "The bit string here tells us the outcomes of all the bits in the circuit. To know which bits in the above output correspond to which bits in the circuit, we can looking at the list of bits below. The output bits (from left to right) correspond to the order in this list (from top to bottom). The spaces are found between bits of different classical registers."
   ]
  },
  {
   "cell_type": "code",
   "execution_count": null,
   "id": "1880bd78",
   "metadata": {},
   "outputs": [],
   "source": [
    "example.clbits"
   ]
  },
  {
   "cell_type": "markdown",
   "id": "4ce5e0dc",
   "metadata": {},
   "source": [
    "To understand what's going on here, let's consider what all of the parts of the results mean. The output string consists of:\n",
    "* On the left, a `d`-bit string of the final code qubit readouts;\n",
    "* On the right, `T` lots of `d-1`-bit strings of the syndrome measurement readouts (with the rightmost being the first).\n",
    "\n",
    "The final code qubit readouts tell us two important things:\n",
    "* A final syndrome measuremement (inferred from comparing bit values);\n",
    "* The value of the logical bit.\n",
    "\n",
    "It therefore makes sense to process the result a bit to separate out these aspects."
   ]
  },
  {
   "cell_type": "code",
   "execution_count": null,
   "id": "aaaf613d",
   "metadata": {},
   "outputs": [],
   "source": [
    "def process_1(output):\n",
    "    \n",
    "    # split the final readouts from the syndrome measurements\n",
    "    output = output.split(' ')\n",
    "    \n",
    "    # construct the raw logical bit readout\n",
    "    logical = output[0][0]+' '+output[0][-1]\n",
    "\n",
    "    # use the final readouts to calculate a final effective syndrome measurement\n",
    "    final = ''\n",
    "    for j in range(d-1):\n",
    "        if output[0][j]==output[0][j+1]:\n",
    "            final += '0'\n",
    "        else:\n",
    "            final += '1'\n",
    "    output[0] = final     \n",
    "    \n",
    "    # put it all back together into a string\n",
    "    output = logical + '  ' + ' '.join(output)\n",
    "    \n",
    "    return output\n",
    "\n",
    "output = list(counts.keys())[0]\n",
    "process_1(output)"
   ]
  },
  {
   "cell_type": "markdown",
   "id": "80a8f4d7",
   "metadata": {},
   "source": [
    "Here the processed output again has two parts:\n",
    "* On the left, two opinions on what the logical bit value is (taken from the code qubits at each end of the code);\n",
    "* On the right `T+1` lots of `d-1`-bit strings of the syndrome measurement readouts (including the inferred one from the final readout.\n",
    "\n",
    "If you are wondering why we take two opinions on the logical readout: it's because it will make things nice later.\n",
    "\n",
    "It is not actually the syndrome values themselves that are useful, but it is their changes. So there's some more processing we can do, to output the syndrome changes instead of the values themselves."
   ]
  },
  {
   "cell_type": "code",
   "execution_count": null,
   "id": "04d3c58a",
   "metadata": {},
   "outputs": [],
   "source": [
    "def process_2(output):\n",
    "    \n",
    "    output = output.split('  ')\n",
    "    logical = output[0]\n",
    "    syndrome = output[1].split(' ') [::-1]  \n",
    "    \n",
    "    changes = [syndrome[0]]\n",
    "    for t in range(T):\n",
    "        change = ''\n",
    "        for j in range(d-1):\n",
    "            if syndrome[t][j]==syndrome[t+1][j]:\n",
    "                change += '0'\n",
    "            else:\n",
    "                change += '1'\n",
    "        changes.append(change)\n",
    "    \n",
    "    output = logical + '  ' + ' '.join(changes[::-1])\n",
    "    \n",
    "    return output\n",
    "\n",
    "process_2(process_1(output))"
   ]
  },
  {
   "cell_type": "markdown",
   "id": "dada4b83",
   "metadata": {},
   "source": [
    "So what can we do with this processed result?\n",
    "\n",
    "* The ideal, error-free result here (for a `d=3`, `T=2` code with a stored `0`) is `0 0  00 00 00`.\n",
    "* The result you see above differs from this in two places: two of the `0`s are instead `1`s.\n",
    "* All the examples similarly have this final processed output flipped in two places.\n",
    "* It will also be true for any single qubit Pauli error inserted anywhere in a repetition code of any size and for any number of syndrome measurement rounds.\n",
    "* So by doing this processing, we distill the whole result down into a pair of hints for each error.\n",
    "\n",
    "For large codes and large numbers of rounds, these large strings will get unwieldly. It is therefore easier to just describe which of the bits have been flipped. This is done by the following function. Given any output string of this form, it returns a list of dictionaries that contain a discription of each hint."
   ]
  },
  {
   "cell_type": "code",
   "execution_count": null,
   "id": "28407431",
   "metadata": {},
   "outputs": [],
   "source": [
    "def string2nodes(string, logical='0'):\n",
    "\n",
    "    nodes = []\n",
    "    string = [substring.split(' ') for substring in string.split('  ')]\n",
    "\n",
    "    # for hints seen in the syndrome measurement rouunds\n",
    "    for t,syn in enumerate(string[1][::-1]):\n",
    "        for j,s in enumerate(syn):\n",
    "            if s=='1':\n",
    "                # label with where and when\n",
    "                node = {'element':j, 'time':t}\n",
    "                nodes.append(node)\n",
    "    \n",
    "    # for hints seen when the logical value is incorrect\n",
    "    for j,log in enumerate(string[0]):\n",
    "        if log!=logical:\n",
    "            # label with where\n",
    "            node = {'element':j}\n",
    "            # and also note that it is one seen from the logical value\n",
    "            node['is_boundary']  = True\n",
    "            nodes.append(node)\n",
    "\n",
    "    return nodes\n",
    "\n",
    "string2nodes(process_2(process_1(output)))"
   ]
  },
  {
   "cell_type": "markdown",
   "id": "5eab1e63",
   "metadata": {},
   "source": [
    "Now let's take a look at all the examples, from 0 to 8.\n",
    "\n",
    "First choose the example (and see the circuit)."
   ]
  },
  {
   "cell_type": "code",
   "execution_count": null,
   "id": "415b27db",
   "metadata": {},
   "outputs": [],
   "source": [
    "e = 0\n",
    "\n",
    "example = examples[e]\n",
    "example.draw(output='mpl')"
   ]
  },
  {
   "cell_type": "markdown",
   "id": "7355def8",
   "metadata": {},
   "source": [
    "Then we can run it to get the raw result."
   ]
  },
  {
   "cell_type": "code",
   "execution_count": null,
   "id": "6b8b3de8",
   "metadata": {},
   "outputs": [],
   "source": [
    "job = backend_sim.run(example)\n",
    "counts = job.result().get_counts()\n",
    "\n",
    "output = list(counts.keys())[0]\n",
    "output"
   ]
  },
  {
   "cell_type": "markdown",
   "id": "24c58769",
   "metadata": {},
   "source": [
    "Then process it for the processed result."
   ]
  },
  {
   "cell_type": "code",
   "execution_count": null,
   "id": "ef4c9af3",
   "metadata": {},
   "outputs": [],
   "source": [
    "job = backend_sim.run(example)\n",
    "counts = job.result().get_counts()\n",
    "\n",
    "output = list(counts.keys())[0]\n",
    "process_2(process_1(output))"
   ]
  },
  {
   "cell_type": "markdown",
   "id": "bcc37210",
   "metadata": {},
   "source": [
    "And then turn that into a list of descriptions."
   ]
  },
  {
   "cell_type": "code",
   "execution_count": null,
   "id": "639744b5",
   "metadata": {},
   "outputs": [],
   "source": [
    "for node in string2nodes(process_2(process_1(output))):\n",
    "    print(node)"
   ]
  },
  {
   "cell_type": "markdown",
   "id": "bbba0bfb",
   "metadata": {},
   "source": [
    "## Repetition Codes with qiskit-qec"
   ]
  },
  {
   "attachments": {},
   "cell_type": "markdown",
   "id": "92ef2571",
   "metadata": {},
   "source": [
    "* We don't usually need to create QEC circuits manually.\n",
    "* Qiskit-QEC gives us tools to create repetition code circuits automatically.\n",
    "* See [the install guide](https://github.com/qiskit-community/qiskit-qec/blob/main/docs/installation.md) for Qiskit-QEC."
   ]
  },
  {
   "cell_type": "markdown",
   "id": "cd41f673",
   "metadata": {},
   "source": [
    "Once it is installed, we can import the class used for repetition codes."
   ]
  },
  {
   "cell_type": "code",
   "execution_count": null,
   "id": "f752c075",
   "metadata": {},
   "outputs": [],
   "source": [
    "from qiskit_qec.circuits import RepetitionCodeCircuit"
   ]
  },
  {
   "cell_type": "markdown",
   "id": "3ceb1fe4",
   "metadata": {},
   "source": [
    "We can create a repetition code object using"
   ]
  },
  {
   "cell_type": "code",
   "execution_count": null,
   "id": "4dcd43f2",
   "metadata": {},
   "outputs": [],
   "source": [
    "d = 3\n",
    "T = 2\n",
    "\n",
    "code = RepetitionCodeCircuit(d,T,resets=True,xbasis=False,barriers=True)"
   ]
  },
  {
   "cell_type": "markdown",
   "id": "8ab5c47d",
   "metadata": {},
   "source": [
    "Here we have a few options, beyond `d` and `T`:\n",
    "* `resets` determines whether a reset gate is placed after measurements;\n",
    "* With `xbasis` we can choose to use the phase-flip encoding, instead of the standard bit-flip encoding.\n",
    "* With `barriers` we can choose to put barriers between various parts of the circuit: useful visually and for compilation."
   ]
  },
  {
   "cell_type": "markdown",
   "id": "7fd01423",
   "metadata": {},
   "source": [
    "For the `code` object we just created, `code.circuit['0']` contains the circuit for a stored logical `0`. This is just like the one we created above."
   ]
  },
  {
   "cell_type": "code",
   "execution_count": null,
   "id": "caaabc19",
   "metadata": {},
   "outputs": [],
   "source": [
    "code.circuit['0'].draw(output='mpl')"
   ]
  },
  {
   "cell_type": "markdown",
   "id": "298b9725",
   "metadata": {},
   "source": [
    "There's also one for a stored logical `1`."
   ]
  },
  {
   "cell_type": "code",
   "execution_count": null,
   "id": "dc47dc20",
   "metadata": {},
   "outputs": [],
   "source": [
    "code.circuit['1'].draw(output='mpl')"
   ]
  },
  {
   "cell_type": "markdown",
   "id": "92d027d1",
   "metadata": {},
   "source": [
    "Let's combine these into a list and run them in the same job"
   ]
  },
  {
   "cell_type": "code",
   "execution_count": null,
   "id": "4f103fd2",
   "metadata": {},
   "outputs": [],
   "source": [
    "job = backend_sim.run([code.circuit['0'], code.circuit['1']], shots=shots)"
   ]
  },
  {
   "cell_type": "markdown",
   "id": "92aea88c",
   "metadata": {},
   "source": [
    "and then put the results together in the same dictionary"
   ]
  },
  {
   "cell_type": "code",
   "execution_count": null,
   "id": "918baf58",
   "metadata": {},
   "outputs": [],
   "source": [
    "raw_results = {'0':job.result().get_counts(code.circuit['0']), '1':job.result().get_counts(code.circuit['1'])}\n",
    "raw_results"
   ]
  },
  {
   "cell_type": "markdown",
   "id": "7a510a32",
   "metadata": {},
   "source": [
    "Since there are no errors, the results aren't very interesting. Just the standard code qubit readout on the left (all reflecting the logical value), and syndrome values on the right (detecting no errors).\n",
    "\n",
    "The code object allows us to process the results in the manner discussed earlier. So the error free string corresponds to no nodes."
   ]
  },
  {
   "cell_type": "code",
   "execution_count": null,
   "id": "ec1f5150",
   "metadata": {},
   "outputs": [],
   "source": [
    "code.string2nodes('000 00 00')"
   ]
  },
  {
   "cell_type": "markdown",
   "id": "b3a954d2",
   "metadata": {},
   "source": [
    "One with a spurious result somewhere (probably due to a measurement error) generates a pair."
   ]
  },
  {
   "cell_type": "code",
   "execution_count": null,
   "id": "92dbdb1c",
   "metadata": {},
   "outputs": [],
   "source": [
    "code.string2nodes('000 01 00')"
   ]
  },
  {
   "cell_type": "markdown",
   "id": "de0fb632",
   "metadata": {},
   "source": [
    "The same for the error free result for a logical `1` (though we need to flag up that it's a logical `1`)."
   ]
  },
  {
   "cell_type": "code",
   "execution_count": null,
   "id": "9fe7c869",
   "metadata": {},
   "outputs": [],
   "source": [
    "code.string2nodes('111 00 00', logical='1')"
   ]
  },
  {
   "cell_type": "markdown",
   "id": "8b4f461d",
   "metadata": {},
   "source": [
    "And the same spurious result from before generates the same two nodes."
   ]
  },
  {
   "cell_type": "code",
   "execution_count": null,
   "id": "22bb8279",
   "metadata": {},
   "outputs": [],
   "source": [
    "code.string2nodes('111 01 00', logical='1')"
   ]
  },
  {
   "cell_type": "markdown",
   "id": "653760b3",
   "metadata": {},
   "source": [
    "## From nodes to syndrome graphs\n",
    "\n",
    "Let's go back and run all the example circuits again."
   ]
  },
  {
   "cell_type": "code",
   "execution_count": null,
   "id": "b040efe6",
   "metadata": {},
   "outputs": [],
   "source": [
    "job = backend_sim.run(examples)\n",
    "\n",
    "output_list = []\n",
    "node_list = []\n",
    "for example in examples:\n",
    "    counts = job.result().get_counts(example)\n",
    "    output = list(counts.keys())[0]\n",
    "    \n",
    "    output_list.append( output )\n",
    "    node_list.append( code.string2nodes(output) )"
   ]
  },
  {
   "cell_type": "markdown",
   "id": "6de441e1",
   "metadata": {},
   "source": [
    "To construct a list of the outputs"
   ]
  },
  {
   "cell_type": "code",
   "execution_count": null,
   "id": "8a2edca3",
   "metadata": {},
   "outputs": [],
   "source": [
    "output_list"
   ]
  },
  {
   "cell_type": "markdown",
   "id": "b6f94752",
   "metadata": {},
   "source": [
    "And the corresponding pairs of nodes"
   ]
  },
  {
   "cell_type": "code",
   "execution_count": null,
   "id": "bf029698",
   "metadata": {},
   "outputs": [],
   "source": [
    "node_list"
   ]
  },
  {
   "cell_type": "markdown",
   "id": "e56bc715",
   "metadata": {},
   "source": [
    "We call these nodes because we will use them as nodes in a graph (a collection of nodes connected by edges). Specifically, an edge will connect pairs of nodes that are created by the same single error.\n",
    "\n",
    "For this we'll need some graph theory tools."
   ]
  },
  {
   "cell_type": "code",
   "execution_count": null,
   "id": "d64cb828",
   "metadata": {},
   "outputs": [],
   "source": [
    "import retworkx as rx\n",
    "from retworkx.visualization import mpl_draw"
   ]
  },
  {
   "cell_type": "markdown",
   "id": "b3e1b769",
   "metadata": {},
   "source": [
    "Now we construct the graph:\n",
    "* Each node will be labelled in the graph by an index (the `j`s and `k`s below);\n",
    "* Each edge is labelled by `e`, the index of the example error it corresponds to."
   ]
  },
  {
   "cell_type": "code",
   "execution_count": null,
   "id": "079f6c3d",
   "metadata": {},
   "outputs": [],
   "source": [
    "S = rx.PyGraph()\n",
    "\n",
    "for e,(n0,n1) in enumerate(node_list):\n",
    "    \n",
    "    if n0 not in S.nodes():\n",
    "        j = S.add_node(n0)\n",
    "    else:\n",
    "        j = S.nodes().index(n0)\n",
    "        \n",
    "    if n1 not in S.nodes():\n",
    "        k = S.add_node(n1)\n",
    "    else:\n",
    "        k = S.nodes().index(n1)\n",
    "    \n",
    "    S.add_edge(j, k, str(e))"
   ]
  },
  {
   "cell_type": "markdown",
   "id": "a9260a53",
   "metadata": {},
   "source": [
    "Let's take a look at it (note that the exact layout of this will randomly change every time)."
   ]
  },
  {
   "cell_type": "code",
   "execution_count": null,
   "id": "21ab6664",
   "metadata": {},
   "outputs": [],
   "source": [
    "mpl_draw(S, with_labels=True, edge_labels=lambda edge: edge) "
   ]
  },
  {
   "cell_type": "markdown",
   "id": "22e77cbc",
   "metadata": {},
   "source": [
    "## From syndrome graphs to errors\n",
    "\n",
    "We can use this graph to deduce the likely set of errors that occurred for a given output of the circuit.\n",
    "\n",
    "For example, suppose we get the outcome `'001 01 01'`. This corresponds to the nodes"
   ]
  },
  {
   "cell_type": "code",
   "execution_count": null,
   "id": "21105a4c",
   "metadata": {},
   "outputs": [],
   "source": [
    "nodes = code.string2nodes('001 01 01')\n",
    "print(nodes)"
   ]
  },
  {
   "cell_type": "markdown",
   "id": "8cea685b",
   "metadata": {},
   "source": [
    "Which in this graph corresponds to the nodes labelled with the following indices."
   ]
  },
  {
   "cell_type": "code",
   "execution_count": null,
   "id": "f653e425",
   "metadata": {},
   "outputs": [],
   "source": [
    "[S.nodes().index(n) for n in nodes]"
   ]
  },
  {
   "cell_type": "markdown",
   "id": "5009b5db",
   "metadata": {},
   "source": [
    "We see that these nodes (0 and 1) are connected by edge 0. This gives us our most likely culprit: our first example error."
   ]
  },
  {
   "cell_type": "code",
   "execution_count": null,
   "id": "d3dd79ef",
   "metadata": {},
   "outputs": [],
   "source": [
    "example_explanations[0]"
   ]
  },
  {
   "cell_type": "markdown",
   "id": "ce9c973b",
   "metadata": {},
   "source": [
    "Now suppose the output is instead `'101 11 11'`."
   ]
  },
  {
   "cell_type": "code",
   "execution_count": null,
   "id": "a498c47e",
   "metadata": {},
   "outputs": [],
   "source": [
    "nodes = code.string2nodes('101 11 11')\n",
    "print(nodes)"
   ]
  },
  {
   "cell_type": "markdown",
   "id": "05d87c81",
   "metadata": {},
   "source": [
    "Here we see that something more complex must have happened, since there are four nodes here. So not just a single error. Their indices are as follows."
   ]
  },
  {
   "cell_type": "code",
   "execution_count": null,
   "id": "d24a6ad7",
   "metadata": {},
   "outputs": [],
   "source": [
    "[S.nodes().index(n) for n in nodes]"
   ]
  },
  {
   "cell_type": "markdown",
   "id": "a1212efd",
   "metadata": {},
   "source": [
    "Among these are 0 and 1, which as we already known can be explained by error 0. This leaves 4 and 7, which the graph tells us are connected by edge 9. This can therefore be explained by our last example error."
   ]
  },
  {
   "cell_type": "code",
   "execution_count": null,
   "id": "b3b02861",
   "metadata": {},
   "outputs": [],
   "source": [
    "example_explanations[9]"
   ]
  },
  {
   "cell_type": "markdown",
   "id": "4df46ec5",
   "metadata": {},
   "source": [
    "Now let's consider the string `'010 01 00'`."
   ]
  },
  {
   "cell_type": "code",
   "execution_count": null,
   "id": "8044ee4c",
   "metadata": {},
   "outputs": [],
   "source": [
    "nodes = code.string2nodes('010 01 00')\n",
    "\n",
    "[S.nodes().index(n) for n in nodes]"
   ]
  },
  {
   "cell_type": "markdown",
   "id": "ff17d8e5",
   "metadata": {},
   "source": [
    "This gives us two nodes, 2 and 6, that are not connected on our graph. This could just be because our graph is only constructed from a limited set of examples. However, like above, it could also be because more than one error occurred.\n",
    "\n",
    "For example, errors 4 and 8 give the following outputs."
   ]
  },
  {
   "cell_type": "code",
   "execution_count": null,
   "id": "ef5bd2ad",
   "metadata": {},
   "outputs": [],
   "source": [
    "print(output_list[4])\n",
    "print(output_list[8])"
   ]
  },
  {
   "cell_type": "markdown",
   "id": "fa69ca09",
   "metadata": {},
   "source": [
    "The bitwise addition of these would lead to the very string we are currently considering: `'010 01 00'`. Hence the coincidence of these two this output errors would lead to this output. On the graph we see this by the fact that nodes 2 and 6 are connected by the combination of edges 4 and 8.\n",
    "\n",
    "In all the examples so far, our method has been the same:\n",
    "* Look at what nodes are present in our output;\n",
    "* Find a set of edges that form paths, with endpoints on the nodes;\n",
    "* These edges correspond to a set of errors that could cause the given output."
   ]
  },
  {
   "cell_type": "markdown",
   "id": "194f0b78",
   "metadata": {},
   "source": [
    "So far we've looked at the graph created from our 9 example errors. Really we should be more systematic, running an analysis of all the different ways that a Pauli error could be inserted into the circuit, and the effects on the output that these will have. Qiskit-QEC does this for us when we initialize a `DecodingGraph` object with our code."
   ]
  },
  {
   "cell_type": "code",
   "execution_count": null,
   "id": "fed7d2d6",
   "metadata": {},
   "outputs": [],
   "source": [
    "from qiskit_qec.decoders import DecodingGraph\n",
    "\n",
    "dg = DecodingGraph(code)"
   ]
  },
  {
   "cell_type": "markdown",
   "id": "119bfde8",
   "metadata": {},
   "source": [
    "Here's the full decoding graph for our code. Note that it has just as many nodes as the one we've just been considering, but many more edges. It seems there are 16 distinct ways a single Pauli error can affect this code, rather than just our nine examples."
   ]
  },
  {
   "cell_type": "code",
   "execution_count": null,
   "id": "8be34973",
   "metadata": {},
   "outputs": [],
   "source": [
    "mpl_draw(dg.graph, with_labels=True)"
   ]
  },
  {
   "cell_type": "markdown",
   "id": "3abdd2be",
   "metadata": {},
   "source": [
    "Here's the data for all the edges of this graph, and the nodes they connect."
   ]
  },
  {
   "cell_type": "code",
   "execution_count": null,
   "id": "651940d5",
   "metadata": {},
   "outputs": [],
   "source": [
    "S = dg.graph\n",
    "\n",
    "for n0,n1 in S.edge_list():\n",
    "    print('\\nEdge:', S.get_edge_data(n0,n1))\n",
    "    print('Connects nodes:')\n",
    "    print(S.nodes()[n0])\n",
    "    print(S.nodes()[n1])"
   ]
  },
  {
   "cell_type": "markdown",
   "id": "47a95ccb",
   "metadata": {},
   "source": [
    "Note that the edges are described by:\n",
    "* The qubits affected by the error that created them;\n",
    "* A 'weight' (which we can update to include information on probability, etc)."
   ]
  },
  {
   "cell_type": "markdown",
   "id": "93713fd5",
   "metadata": {},
   "source": [
    "# Conclusions\n",
    "\n",
    "Here we started with the raw outputs of circuits, and then turned these into graphs. Using graphs like these we can process and understand the effects of errors at a more abstract level. Already we've started to do some decoding with these graphs.\n",
    "\n",
    "Next time we'll get even more famililar with how we use these graphs for decoding."
   ]
  },
  {
   "cell_type": "code",
   "execution_count": null,
   "id": "0e2cf3fb",
   "metadata": {},
   "outputs": [],
   "source": []
  }
 ],
 "metadata": {
  "kernelspec": {
   "display_name": "qec-env",
   "language": "python",
   "name": "qec-env"
  },
  "language_info": {
   "codemirror_mode": {
    "name": "ipython",
    "version": 3
   },
   "file_extension": ".py",
   "mimetype": "text/x-python",
   "name": "python",
   "nbconvert_exporter": "python",
   "pygments_lexer": "ipython3",
   "version": "3.10.4"
  },
  "vscode": {
   "interpreter": {
    "hash": "d0c97c6e336ba8a43726fa4b7f85b3d6fc40e6f311d3e8fe15ffb6db6aa1925b"
   }
  }
 },
 "nbformat": 4,
 "nbformat_minor": 5
}
