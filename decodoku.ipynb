{
 "cells": [
  {
   "cell_type": "markdown",
   "id": "dce335b7",
   "metadata": {},
   "source": [
    "# Decodoku: Quantum error correction as a game\n",
    "### James R. Wootton, IBM Quantum"
   ]
  },
  {
   "cell_type": "markdown",
   "id": "c1862f19",
   "metadata": {},
   "source": [
    "Quantum error correction is the method we'll use to detect and correct errors in quantum computers. A very vague summary of the process is:\n",
    "\n",
    "* Extract lots of useful information about errors;\n",
    "* Thing about what it all means for the computation that you are running;\n",
    "* Take those insights into account in subsequent operations.\n",
    "\n",
    "The second part here is called 'decoding'. Since it's like solving a puzzle, in 2016 I made it into a puzzle game called *Decodoku*. Now, 6 years on, I've reimplemented the game here in Jupyter notebooks!\n",
    "\n",
    "### Setting up\n",
    "\n",
    "To run the game, you need to run this notebook. If you don't know how to run Jupyter notebooks, you can do it on the [IBM Quantum Lab](https://lab.quantum-computing.ibm.com/).\n",
    "\n",
    "You'll need to run the following cells to install Qiskit QEC. Specifically, you'll need the branch with Decodoku included.\n"
   ]
  },
  {
   "cell_type": "code",
   "execution_count": null,
   "id": "087cb0fb",
   "metadata": {},
   "outputs": [],
   "source": [
    "pip install --no-cache --upgrade https://github.com/qiskit-community/qiskit-qec/archive/decodoku.zip"
   ]
  },
  {
   "cell_type": "markdown",
   "id": "5e1aa9ca",
   "metadata": {},
   "source": [
    "### Playing the game\n",
    "\n",
    "Once everything is installed, we can import the game."
   ]
  },
  {
   "cell_type": "code",
   "execution_count": null,
   "id": "03fbff05",
   "metadata": {},
   "outputs": [],
   "source": [
    "from qiskit_qec.utils import Decodoku"
   ]
  },
  {
   "cell_type": "markdown",
   "id": "89832ac5",
   "metadata": {},
   "source": [
    "The game is played on a fairly abstract decoding graph, defined by a size `d`. You can think of it as various things, most notably:\n",
    "* a `d=d`, `T=d` repetition code;\n",
    "* or as a slightly rectangular distance `d` surface code with `T=0`.\n",
    "\n",
    "But we don't really have to think about what code is behind it: we have a decoding graph, so our job is to get decoding!\n",
    "\n",
    "We'll start with one for `d=9` and an error probability `p=0.1`."
   ]
  },
  {
   "cell_type": "code",
   "execution_count": null,
   "id": "7923b92b",
   "metadata": {},
   "outputs": [],
   "source": [
    "game = Decodoku(d=9, p=0.1)"
   ]
  },
  {
   "cell_type": "markdown",
   "id": "ac23c739",
   "metadata": {},
   "source": [
    "This gives us a decoding problem defined by the following graph."
   ]
  },
  {
   "cell_type": "code",
   "execution_count": null,
   "id": "b5be52a4",
   "metadata": {},
   "outputs": [],
   "source": [
    "game.draw_graph()"
   ]
  },
  {
   "cell_type": "markdown",
   "id": "449e12ea",
   "metadata": {},
   "source": [
    "\n",
    "Don't worry if you don't know what this means. The basic idea is simple: the red nodes shouldn't be there and need to be cleaned up!\n",
    "\n",
    "You do this by moving them together: When two red nodes meet, they cancel each other out. You can also throw them off a boundary (the orange thing).\n",
    "\n",
    "There are many ways to clean up a given set of nodes. However, you have to try to do it the right way. Typically, this means the way for which the total distance moved by the nodes is as small as possible.\n",
    "\n",
    "**How to move nodes**\n",
    "* Choose a red square to move by clicking on it.\n",
    "* To move it, choose the new location by clicking on it.\n",
    "* To cancel your selection, press 'Next'.\n",
    "* Note: When moving to a boundary, it doesn't matter where in the boundary you move it to.\n",
    "\n",
    "**How the game ends**\n",
    "* The game ends when all highlighted nodes have been removed.\n",
    "* The `boundary_errors` that needed to be corrected are shown at the top of each boundary.\n",
    "* The `boundary_corrections` calculated by your solution are shown at the bottom.\n",
    "* Press 'Next' to start another game.\n"
   ]
  },
  {
   "cell_type": "code",
   "execution_count": null,
   "id": "bfc6ef9f",
   "metadata": {},
   "outputs": [],
   "source": [
    "game.run()"
   ]
  },
  {
   "cell_type": "markdown",
   "id": "bbf7d04d",
   "metadata": {},
   "source": [
    "You can also try more complex variants. In these, the nodes don't simply pair up. Instead they each have a number, and will only cancel each other out when you find a multiple of `k`. Here's an example with `k=3`."
   ]
  },
  {
   "cell_type": "code",
   "execution_count": null,
   "id": "564ef040",
   "metadata": {},
   "outputs": [],
   "source": [
    "game = Decodoku(d=9, k=3, p=0.1)\n",
    "\n",
    "game.run()"
   ]
  },
  {
   "cell_type": "markdown",
   "id": "d32419bd",
   "metadata": {},
   "source": [
    "Then if we draw the graph, it will show the clusters that the nodes have been separated into. It also shows the `boundary_correction` output by the decoder."
   ]
  },
  {
   "cell_type": "code",
   "execution_count": null,
   "id": "a7749a15",
   "metadata": {},
   "outputs": [],
   "source": [
    "game = Decodoku(d=9, k=6, p=0.1, nonabelian=True)\n",
    "\n",
    "game.run()"
   ]
  },
  {
   "cell_type": "markdown",
   "id": "d007bdce",
   "metadata": {},
   "source": [
    "There's also a version based on non-Abelian anyons. Here Λs cancel each other out. As do Φs, unless that there is some nearby mess that requires them to cancel out another Λ or Φ (they are a bit weird)."
   ]
  },
  {
   "cell_type": "markdown",
   "id": "04e2553d",
   "metadata": {},
   "source": [
    "### Learn more\n",
    "\n",
    "To find out more about quantum error correction, check out the following lectures.\n",
    "* [Introduction to Quantum Error Correction](https://tube.switch.ch/videos/6mPwGgSR9b)\n",
    "* [Surface Codes](https://tube.switch.ch/videos/7F4OQewAAu)"
   ]
  },
  {
   "cell_type": "markdown",
   "id": "18a508c6",
   "metadata": {},
   "source": []
  }
 ],
 "metadata": {
  "kernelspec": {
   "display_name": "Python 3.9.15 ('decodoku')",
   "language": "python",
   "name": "python3"
  },
  "language_info": {
   "codemirror_mode": {
    "name": "ipython",
    "version": 3
   },
   "file_extension": ".py",
   "mimetype": "text/x-python",
   "name": "python",
   "nbconvert_exporter": "python",
   "pygments_lexer": "ipython3",
   "version": "3.9.15"
  },
  "vscode": {
   "interpreter": {
    "hash": "3631a5c11ea8272419473841f6c7a371f0144b233b78c9dd4753c6019b6bfd67"
   }
  }
 },
 "nbformat": 4,
 "nbformat_minor": 5
}
